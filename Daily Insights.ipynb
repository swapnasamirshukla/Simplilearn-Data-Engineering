{
 "cells": [
  {
   "cell_type": "code",
   "execution_count": 0,
   "metadata": {
    "application/vnd.databricks.v1+cell": {
     "cellMetadata": {
      "byteLimit": 2048000,
      "rowLimit": 10000
     },
     "inputWidgets": {},
     "nuid": "5d7138d5-82a0-4c18-b66f-9242630b903d",
     "showTitle": false,
     "title": ""
    }
   },
   "outputs": [
    {
     "data": {
      "text/html": [
       "<style scoped>\n",
       "  .table-result-container {\n",
       "    max-height: 300px;\n",
       "    overflow: auto;\n",
       "  }\n",
       "  table, th, td {\n",
       "    border: 1px solid black;\n",
       "    border-collapse: collapse;\n",
       "  }\n",
       "  th, td {\n",
       "    padding: 5px;\n",
       "  }\n",
       "  th {\n",
       "    text-align: left;\n",
       "  }\n",
       "</style><div class='table-result-container'><table class='table-result'><thead style='background-color: white'><tr><th>path</th><th>name</th><th>size</th><th>modificationTime</th></tr></thead><tbody><tr><td>dbfs:/mnt/staging/part-merged.csv</td><td>part-merged.csv</td><td>10574531</td><td>1719657496000</td></tr></tbody></table></div>"
      ]
     },
     "metadata": {
      "application/vnd.databricks.v1+output": {
       "addedWidgets": {},
       "aggData": [],
       "aggError": "",
       "aggOverflow": false,
       "aggSchema": [],
       "aggSeriesLimitReached": false,
       "aggType": "",
       "arguments": {},
       "columnCustomDisplayInfos": {},
       "data": [
        [
         "dbfs:/mnt/staging/part-merged.csv",
         "part-merged.csv",
         10574531,
         1719657496000
        ]
       ],
       "datasetInfos": [],
       "dbfsResultPath": null,
       "isJsonSchema": true,
       "metadata": {},
       "overflow": false,
       "plotOptions": {
        "customPlotOptions": {},
        "displayType": "table",
        "pivotAggregation": null,
        "pivotColumns": null,
        "xColumns": null,
        "yColumns": null
       },
       "removedWidgets": [],
       "schema": [
        {
         "metadata": "{}",
         "name": "path",
         "type": "\"string\""
        },
        {
         "metadata": "{}",
         "name": "name",
         "type": "\"string\""
        },
        {
         "metadata": "{}",
         "name": "size",
         "type": "\"long\""
        },
        {
         "metadata": "{}",
         "name": "modificationTime",
         "type": "\"long\""
        }
       ],
       "type": "table"
      }
     },
     "output_type": "display_data"
    }
   ],
   "source": [
    "# Define your storage account name and key\n",
    "storage_account_name = \"retailanalyticsstaging\"\n",
    "storage_account_key = \"****\"\n",
    "\n",
    "# Define the container name and mount point\n",
    "container_name = \"staging-data\"\n",
    "mount_point = \"/mnt/staging\"\n",
    "\n",
    "# Mount the storage account\n",
    "dbutils.fs.mount(\n",
    "    source = f\"wasbs://{container_name}@{storage_account_name}.blob.core.windows.net/\",\n",
    "    mount_point = mount_point,\n",
    "    extra_configs = {f\"fs.azure.account.key.{storage_account_name}.blob.core.windows.net\": storage_account_key}\n",
    ")\n",
    "\n",
    "# List the files in the mounted directory to verify\n",
    "display(dbutils.fs.ls(mount_point))"
   ]
  },
  {
   "cell_type": "code",
   "execution_count": 0,
   "metadata": {
    "application/vnd.databricks.v1+cell": {
     "cellMetadata": {
      "byteLimit": 2048000,
      "rowLimit": 10000
     },
     "inputWidgets": {},
     "nuid": "c7142815-c572-4fba-93be-0c8831446774",
     "showTitle": false,
     "title": ""
    }
   },
   "outputs": [],
   "source": [
    "df = spark.read.csv(\"/mnt/staging/part-merged.csv\")"
   ]
  },
  {
   "cell_type": "code",
   "execution_count": null,
   "metadata": {},
   "outputs": [],
   "source": [
    "df.display()"
   ]
  },
  {
   "cell_type": "code",
   "execution_count": 0,
   "metadata": {
    "application/vnd.databricks.v1+cell": {
     "cellMetadata": {
      "byteLimit": 2048000,
      "implicitDf": true,
      "rowLimit": 10000
     },
     "inputWidgets": {},
     "nuid": "eb6bfd60-b0d0-470f-bfe5-4293fee6fa4c",
     "showTitle": false,
     "title": ""
    }
   },
   "outputs": [
    {
     "data": {
      "text/html": [
       "<style scoped>\n",
       "  .table-result-container {\n",
       "    max-height: 300px;\n",
       "    overflow: auto;\n",
       "  }\n",
       "  table, th, td {\n",
       "    border: 1px solid black;\n",
       "    border-collapse: collapse;\n",
       "  }\n",
       "  th, td {\n",
       "    padding: 5px;\n",
       "  }\n",
       "  th {\n",
       "    text-align: left;\n",
       "  }\n",
       "</style><div class='table-result-container'><table class='table-result'><thead style='background-color: white'><tr></tr></thead><tbody></tbody></table></div>"
      ]
     },
     "metadata": {
      "application/vnd.databricks.v1+output": {
       "addedWidgets": {},
       "aggData": [],
       "aggError": "",
       "aggOverflow": false,
       "aggSchema": [],
       "aggSeriesLimitReached": false,
       "aggType": "",
       "arguments": {},
       "columnCustomDisplayInfos": {},
       "data": [],
       "datasetInfos": [],
       "dbfsResultPath": null,
       "isJsonSchema": true,
       "metadata": {
        "dataframeName": null
       },
       "overflow": false,
       "plotOptions": {
        "customPlotOptions": {},
        "displayType": "table",
        "pivotAggregation": null,
        "pivotColumns": null,
        "xColumns": null,
        "yColumns": null
       },
       "removedWidgets": [],
       "schema": [],
       "type": "table"
      }
     },
     "output_type": "display_data"
    }
   ],
   "source": [
    "%sql\n",
    "-- create database in hive metastore catalog\n",
    "CREATE DATABASE IF NOT EXISTS olistdatabase;"
   ]
  },
  {
   "cell_type": "code",
   "execution_count": 0,
   "metadata": {
    "application/vnd.databricks.v1+cell": {
     "cellMetadata": {
      "byteLimit": 2048000,
      "implicitDf": true,
      "rowLimit": 10000
     },
     "inputWidgets": {},
     "nuid": "d0909694-ab26-4b2f-b445-235aa19cddf2",
     "showTitle": false,
     "title": ""
    }
   },
   "outputs": [
    {
     "data": {
      "text/html": [
       "<style scoped>\n",
       "  .table-result-container {\n",
       "    max-height: 300px;\n",
       "    overflow: auto;\n",
       "  }\n",
       "  table, th, td {\n",
       "    border: 1px solid black;\n",
       "    border-collapse: collapse;\n",
       "  }\n",
       "  th, td {\n",
       "    padding: 5px;\n",
       "  }\n",
       "  th {\n",
       "    text-align: left;\n",
       "  }\n",
       "</style><div class='table-result-container'><table class='table-result'><thead style='background-color: white'><tr></tr></thead><tbody></tbody></table></div>"
      ]
     },
     "metadata": {
      "application/vnd.databricks.v1+output": {
       "addedWidgets": {},
       "aggData": [],
       "aggError": "",
       "aggOverflow": false,
       "aggSchema": [],
       "aggSeriesLimitReached": false,
       "aggType": "",
       "arguments": {},
       "columnCustomDisplayInfos": {},
       "data": [],
       "datasetInfos": [],
       "dbfsResultPath": null,
       "isJsonSchema": true,
       "metadata": {
        "dataframeName": null
       },
       "overflow": false,
       "plotOptions": {
        "customPlotOptions": {},
        "displayType": "table",
        "pivotAggregation": null,
        "pivotColumns": null,
        "xColumns": null,
        "yColumns": null
       },
       "removedWidgets": [],
       "schema": [],
       "type": "table"
      }
     },
     "output_type": "display_data"
    }
   ],
   "source": [
    "%sql\n",
    "CREATE TABLE IF NOT EXISTS olistdatabase.olisttable\n",
    "(\n",
    "id STRING,\n",
    "order_status STRING,\n",
    "order_product_value DOUBLE,\n",
    "order_freight_charge DOUBLE,\n",
    "order_product_qty INT,\n",
    "customer_city STRING,\n",
    "customer_state STRING,\n",
    "customer_zipcode_prefix INT,\n",
    "product_name_len INT,\n",
    "product_description_len INT,\n",
    "product_photos_qty INT,\n",
    "product_review_score INT,\n",
    "order_placed_at TIMESTAMP,\n",
    "order_approved_at TIMESTAMP,\n",
    "order_delivered_at TIMESTAMP\n",
    ")\n",
    "USING CSV\n",
    "OPTIONS\n",
    "(\n",
    "header='false',\n",
    "timestampFormat='dd-MM-yyyy HH:mm'\n",
    ");"
   ]
  },
  {
   "cell_type": "code",
   "execution_count": 0,
   "metadata": {
    "application/vnd.databricks.v1+cell": {
     "cellMetadata": {
      "byteLimit": 2048000,
      "implicitDf": true,
      "rowLimit": 10000
     },
     "inputWidgets": {},
     "nuid": "3428affe-28f9-43e5-8659-b7645c76fc02",
     "showTitle": false,
     "title": ""
    }
   },
   "outputs": [
    {
     "data": {
      "text/html": [
       "<style scoped>\n",
       "  .table-result-container {\n",
       "    max-height: 300px;\n",
       "    overflow: auto;\n",
       "  }\n",
       "  table, th, td {\n",
       "    border: 1px solid black;\n",
       "    border-collapse: collapse;\n",
       "  }\n",
       "  th, td {\n",
       "    padding: 5px;\n",
       "  }\n",
       "  th {\n",
       "    text-align: left;\n",
       "  }\n",
       "</style><div class='table-result-container'><table class='table-result'><thead style='background-color: white'><tr></tr></thead><tbody></tbody></table></div>"
      ]
     },
     "metadata": {
      "application/vnd.databricks.v1+output": {
       "addedWidgets": {},
       "aggData": [],
       "aggError": "",
       "aggOverflow": false,
       "aggSchema": [],
       "aggSeriesLimitReached": false,
       "aggType": "",
       "arguments": {},
       "columnCustomDisplayInfos": {},
       "data": [],
       "datasetInfos": [],
       "dbfsResultPath": null,
       "isJsonSchema": true,
       "metadata": {
        "dataframeName": null
       },
       "overflow": false,
       "plotOptions": {
        "customPlotOptions": {},
        "displayType": "table",
        "pivotAggregation": null,
        "pivotColumns": null,
        "xColumns": null,
        "yColumns": null
       },
       "removedWidgets": [],
       "schema": [],
       "type": "table"
      }
     },
     "output_type": "display_data"
    }
   ],
   "source": [
    "%sql\n",
    "INSERT OVERWRITE olistdatabase.olisttable\n",
    "SELECT \n",
    "    _c0 AS id,\n",
    "    _c1 AS order_status,\n",
    "    CAST(_c2 AS DOUBLE) AS order_product_value,\n",
    "    CAST(_c3 AS DOUBLE) AS order_freight_charge,\n",
    "    CAST(_c4 AS DOUBLE) AS order_product_qty,\n",
    "    _c5 AS customer_city,\n",
    "    _c6 AS customer_state,\n",
    "    CAST(_c7 AS INT) AS customer_zipcode_prefix,\n",
    "    CAST(_c8 AS INT) AS product_name_len,\n",
    "    CAST(_c9 AS INT) AS product_description_len,\n",
    "    CAST(_c10 AS INT) AS product_photos_qty,\n",
    "    CAST(_c11 AS INT) AS product_review_score,\n",
    "    to_timestamp(_c12, 'dd-MM-yyyy HH:mm') AS order_placed_at,\n",
    "    to_timestamp(_c13, 'dd-MM-yyyy HH:mm') AS order_approved_at,\n",
    "    to_timestamp(_c14, 'dd-MM-yyyy HH:mm') AS order_delivered_at\n",
    "FROM csv.`/mnt/staging/part-merged.csv`;"
   ]
  },
  {
   "cell_type": "code",
   "execution_count": 0,
   "metadata": {
    "application/vnd.databricks.v1+cell": {
     "cellMetadata": {
      "byteLimit": 2048000,
      "implicitDf": true,
      "rowLimit": 10000
     },
     "inputWidgets": {},
     "nuid": "e8024e11-9713-473b-bb8e-37f7de13df66",
     "showTitle": false,
     "title": ""
    }
   },
   "outputs": [
    {
     "data": {
      "text/html": [
       "<style scoped>\n",
       "  .table-result-container {\n",
       "    max-height: 300px;\n",
       "    overflow: auto;\n",
       "  }\n",
       "  table, th, td {\n",
       "    border: 1px solid black;\n",
       "    border-collapse: collapse;\n",
       "  }\n",
       "  th, td {\n",
       "    padding: 5px;\n",
       "  }\n",
       "  th {\n",
       "    text-align: left;\n",
       "  }\n",
       "</style><div class='table-result-container'><table class='table-result'><thead style='background-color: white'><tr><th>id</th><th>order_status</th><th>order_product_value</th><th>order_freight_charge</th><th>order_product_qty</th><th>customer_city</th><th>customer_state</th><th>customer_zipcode_prefix</th><th>product_name_len</th><th>product_description_len</th><th>product_photos_qty</th><th>product_review_score</th><th>order_placed_at</th><th>order_approved_at</th><th>order_delivered_at</th></tr></thead><tbody><tr><td>1</td><td>delivered</td><td>79.0</td><td>17.8</td><td>1</td><td>Luziania</td><td>GO</td><td>728</td><td>50</td><td>201</td><td>2</td><td>5</td><td>2017-10-02T10:56:00Z</td><td>2017-10-02T11:07:00Z</td><td>2017-10-10T21:25:00Z</td></tr><tr><td>2</td><td>delivered</td><td>119.9</td><td>27.16</td><td>1</td><td>Joinville</td><td>SC</td><td>892</td><td>50</td><td>511</td><td>3</td><td>5</td><td>2018-07-24T20:41:00Z</td><td>2018-07-26T03:24:00Z</td><td>2018-08-07T15:27:00Z</td></tr><tr><td>3</td><td>delivered</td><td>519.99</td><td>41.69</td><td>1</td><td>Serra</td><td>ES</td><td>291</td><td>48</td><td>1156</td><td>2</td><td>1</td><td>2018-08-08T08:38:00Z</td><td>2018-08-08T08:55:00Z</td><td>2018-08-17T18:06:00Z</td></tr><tr><td>4</td><td>delivered</td><td>29.5</td><td>17.92</td><td>1</td><td>RIO DE JANEIRO</td><td>RJ</td><td>222</td><td>21</td><td>207</td><td>2</td><td>4</td><td>2017-11-18T19:28:00Z</td><td>2017-11-18T19:45:00Z</td><td>2017-12-02T00:28:00Z</td></tr><tr><td>5</td><td>delivered</td><td>26.77</td><td>23.11</td><td>1</td><td>Sao Paulo</td><td>SP</td><td>40</td><td>41</td><td>451</td><td>1</td><td>5</td><td>2018-02-13T21:18:00Z</td><td>2018-02-13T22:20:00Z</td><td>2018-02-16T18:17:00Z</td></tr></tbody></table></div>"
      ]
     },
     "metadata": {
      "application/vnd.databricks.v1+output": {
       "addedWidgets": {},
       "aggData": [],
       "aggError": "",
       "aggOverflow": false,
       "aggSchema": [],
       "aggSeriesLimitReached": false,
       "aggType": "",
       "arguments": {},
       "columnCustomDisplayInfos": {},
       "data": [
        [
         "1",
         "delivered",
         79,
         17.8,
         1,
         "Luziania",
         "GO",
         728,
         50,
         201,
         2,
         5,
         "2017-10-02T10:56:00Z",
         "2017-10-02T11:07:00Z",
         "2017-10-10T21:25:00Z"
        ],
        [
         "2",
         "delivered",
         119.9,
         27.16,
         1,
         "Joinville",
         "SC",
         892,
         50,
         511,
         3,
         5,
         "2018-07-24T20:41:00Z",
         "2018-07-26T03:24:00Z",
         "2018-08-07T15:27:00Z"
        ],
        [
         "3",
         "delivered",
         519.99,
         41.69,
         1,
         "Serra",
         "ES",
         291,
         48,
         1156,
         2,
         1,
         "2018-08-08T08:38:00Z",
         "2018-08-08T08:55:00Z",
         "2018-08-17T18:06:00Z"
        ],
        [
         "4",
         "delivered",
         29.5,
         17.92,
         1,
         "RIO DE JANEIRO",
         "RJ",
         222,
         21,
         207,
         2,
         4,
         "2017-11-18T19:28:00Z",
         "2017-11-18T19:45:00Z",
         "2017-12-02T00:28:00Z"
        ],
        [
         "5",
         "delivered",
         26.77,
         23.11,
         1,
         "Sao Paulo",
         "SP",
         40,
         41,
         451,
         1,
         5,
         "2018-02-13T21:18:00Z",
         "2018-02-13T22:20:00Z",
         "2018-02-16T18:17:00Z"
        ]
       ],
       "datasetInfos": [],
       "dbfsResultPath": null,
       "isJsonSchema": true,
       "metadata": {
        "dataframeName": "_sqldf",
        "executionCount": 9
       },
       "overflow": false,
       "plotOptions": {
        "customPlotOptions": {},
        "displayType": "table",
        "pivotAggregation": null,
        "pivotColumns": null,
        "xColumns": null,
        "yColumns": null
       },
       "removedWidgets": [],
       "schema": [
        {
         "metadata": "{}",
         "name": "id",
         "type": "\"string\""
        },
        {
         "metadata": "{}",
         "name": "order_status",
         "type": "\"string\""
        },
        {
         "metadata": "{}",
         "name": "order_product_value",
         "type": "\"double\""
        },
        {
         "metadata": "{}",
         "name": "order_freight_charge",
         "type": "\"double\""
        },
        {
         "metadata": "{}",
         "name": "order_product_qty",
         "type": "\"integer\""
        },
        {
         "metadata": "{}",
         "name": "customer_city",
         "type": "\"string\""
        },
        {
         "metadata": "{}",
         "name": "customer_state",
         "type": "\"string\""
        },
        {
         "metadata": "{}",
         "name": "customer_zipcode_prefix",
         "type": "\"integer\""
        },
        {
         "metadata": "{}",
         "name": "product_name_len",
         "type": "\"integer\""
        },
        {
         "metadata": "{}",
         "name": "product_description_len",
         "type": "\"integer\""
        },
        {
         "metadata": "{}",
         "name": "product_photos_qty",
         "type": "\"integer\""
        },
        {
         "metadata": "{}",
         "name": "product_review_score",
         "type": "\"integer\""
        },
        {
         "metadata": "{}",
         "name": "order_placed_at",
         "type": "\"timestamp\""
        },
        {
         "metadata": "{}",
         "name": "order_approved_at",
         "type": "\"timestamp\""
        },
        {
         "metadata": "{}",
         "name": "order_delivered_at",
         "type": "\"timestamp\""
        }
       ],
       "type": "table"
      }
     },
     "output_type": "display_data"
    }
   ],
   "source": [
    "%sql\n",
    "select * from olistdatabase.olisttable limit 5"
   ]
  },
  {
   "cell_type": "code",
   "execution_count": null,
   "metadata": {},
   "outputs": [],
   "source": [
    "## Step15: Read the Hive table from the Hive database into a Spark DataFrame\n",
    "\n",
    "df = spark.table(\"olistdatabase.olisttable\")\n",
    "df.display(); \n",
    "df.printSchema()"
   ]
  },
  {
   "cell_type": "code",
   "execution_count": 0,
   "metadata": {
    "application/vnd.databricks.v1+cell": {
     "cellMetadata": {
      "byteLimit": 2048000,
      "rowLimit": 10000
     },
     "inputWidgets": {},
     "nuid": "d1a85b2c-433d-4fdb-8e18-27b1def6f757",
     "showTitle": false,
     "title": ""
    }
   },
   "outputs": [],
   "source": [
    "from pyspark.sql import functions as F\n",
    "from pyspark.sql.functions import col\n",
    "from functools import reduce"
   ]
  },
  {
   "cell_type": "code",
   "execution_count": null,
   "metadata": {},
   "outputs": [],
   "source": [
    "### Step16: Calculate the order metrics\n",
    "\n",
    "df = df.withColumn(\"order_sales\", col(\"order_product_value\") * col(\"order_product_qty\"))\n",
    "df = df.withColumn(\"order_approval_time\", col(\"order_approved_at\") - col(\"order_placed_at\"))\n",
    "df = df.withColumn(\"order_delivery_time\", col(\"order_delivered_at\") - col(\"order_placed_at\"))\n",
    "df = df.withColumn(\"order_placed_date\", F.to_date(col(\"order_placed_at\")))\n",
    "df = df.withColumn(\"order_placed_weekdate\", F.trunc(col(\"order_placed_at\"), \"week\"))\n",
    "df.display();"
   ]
  },
  {
   "cell_type": "code",
   "execution_count": 0,
   "metadata": {
    "application/vnd.databricks.v1+cell": {
     "cellMetadata": {
      "byteLimit": 2048000,
      "rowLimit": 10000
     },
     "inputWidgets": {},
     "nuid": "11da8ebf-ae98-4230-8796-b704c1a4dea9",
     "showTitle": false,
     "title": ""
    }
   },
   "outputs": [],
   "source": [
    "# Step17:Compute the historical daily insights (We will need this values in further steps.)\n",
    "\n",
    "grp_date = df.groupBy(col(\"order_placed_date\"))\n",
    "grp_city_date = df.groupBy(col(\"customer_city\"), col(\"order_placed_date\"))\n",
    "grp_state_date = df.groupBy(col(\"customer_state\"), col(\"order_placed_date\"))"
   ]
  },
  {
   "cell_type": "code",
   "execution_count": 0,
   "metadata": {
    "application/vnd.databricks.v1+cell": {
     "cellMetadata": {
      "byteLimit": 2048000,
      "rowLimit": 10000
     },
     "inputWidgets": {},
     "nuid": "a6dfada0-07ba-43d4-91ba-c454b93544c3",
     "showTitle": false,
     "title": ""
    }
   },
   "outputs": [],
   "source": [
    "## Step18:\n",
    "\n",
    "## Total sales\n",
    "grp_date_total_sales = grp_date.agg(F.sum(\"order_sales\").alias(\"total_sales\")).orderBy(col(\"order_placed_date\").asc())\n",
    "\n",
    "## Total sales per city\n",
    "grp_city_date_total_sales = grp_city_date.agg(F.sum(\"order_sales\").alias(\"total_sales\")).orderBy(col(\"customer_city\").asc(),\n",
    "col(\"order_placed_date\").asc())\n",
    "\n",
    "##Total sales per state\n",
    "grp_state_date_total_sales = grp_state_date.agg(F.sum(\"order_sales\").alias(\"total_sales\")).orderBy(col(\"customer_state\").asc(),\n",
    "col(\"order_placed_date\").asc())"
   ]
  },
  {
   "cell_type": "code",
   "execution_count": 0,
   "metadata": {
    "application/vnd.databricks.v1+cell": {
     "cellMetadata": {
      "byteLimit": 2048000,
      "rowLimit": 10000
     },
     "inputWidgets": {},
     "nuid": "0ff36315-76a9-4b83-a93f-6705a5499873",
     "showTitle": false,
     "title": ""
    }
   },
   "outputs": [],
   "source": [
    "## Step19:\n",
    "\n",
    "#Total Freight Charge\n",
    "#i. Total freight charge\n",
    "#ii. Total freight charge per city\n",
    "#iii. Total freight charge per state\n",
    "## Total freight charge\n",
    "grp_date_total_freight_charge = grp_date.agg(F.sum(\"order_freight_charge\").alias(\"total_freight_charge\")).orderBy(col(\"order_placed_date\").asc())\n",
    "\n",
    "## Total freight charge per city.\n",
    "grp_city_date_total_freight_charge = grp_city_date.agg(F.sum(\"order_freight_charge\").alias(\"total_freight_charge\")).orderBy(col(\"customer_city\").asc(),col(\"order_placed_date\").asc())\n",
    "\n",
    "## Total freight charge per state.\n",
    "grp_state_date_total_freight_charge = grp_state_date.agg(F.sum(\"order_freight_charge\").alias(\"total_freight_charge\")).orderBy(col(\"customer_state\").asc(),col(\"order_placed_date\").asc())"
   ]
  },
  {
   "cell_type": "code",
   "execution_count": 0,
   "metadata": {
    "application/vnd.databricks.v1+cell": {
     "cellMetadata": {
      "byteLimit": 2048000,
      "rowLimit": 10000
     },
     "inputWidgets": {},
     "nuid": "e28c82e4-09d6-41b0-9333-f4f4aab873f9",
     "showTitle": false,
     "title": ""
    }
   },
   "outputs": [],
   "source": [
    "## Step20:\n",
    "\n",
    "# Total Order Count\n",
    "# i. Total order count\n",
    "# ii. Total order count per city\n",
    "# iii. Total order count per state\n",
    "\n",
    "## Total order count\n",
    "grp_date_total_order_count = grp_date.agg(F.count(\"id\").alias(\"total_order_count\")).orderBy(col(\"order_placed_date\").asc())\n",
    "\n",
    "## Total order count per city\n",
    "grp_city_date_total_order_count = grp_city_date.agg(F.count(\"id\").alias(\"total_order_count\")).orderBy(col(\"customer_city\").asc(),\n",
    "col(\"order_placed_date\").asc())\n",
    "\n",
    "## Total order count per state\n",
    "grp_state_date_total_order_count = grp_state_date.agg(F.count(\"id\").alias(\"total_order_count\")).orderBy(col(\"customer_state\").asc(),\n",
    "col(\"order_placed_date\").asc())"
   ]
  },
  {
   "cell_type": "code",
   "execution_count": 0,
   "metadata": {
    "application/vnd.databricks.v1+cell": {
     "cellMetadata": {
      "byteLimit": 2048000,
      "rowLimit": 10000
     },
     "inputWidgets": {},
     "nuid": "a8327b03-f0ca-4add-8ee5-61f474802c29",
     "showTitle": false,
     "title": ""
    }
   },
   "outputs": [],
   "source": [
    "# Step21: Average Freight charge\n",
    "\n",
    "## Total average freight charge.\n",
    "grp_date_avg_freight_charge = grp_date.agg(F.avg(\"order_freight_charge\").alias(\"avg_freight_charge\")).orderBy(col(\"order_placed_date\").asc())\n",
    "\n",
    "## Total order freight charge per city\n",
    "grp_city_date_vg_freight_charge = grp_city_date.agg(F.avg(\"order_freight_charge\").alias(\"avg_freight_charge\")).orderBy(col(\"customer_city\").asc(),col(\"order_placed_date\").asc())\n",
    "\n",
    "## Total order freight charge per state\n",
    "grp_state_date_vg_freight_charge = grp_state_date.agg(F.avg(\"order_freight_charge\").alias(\"avg_freight_charge\")).orderBy(col(\"customer_state\").asc(),col(\"order_placed_date\").asc())\n"
   ]
  },
  {
   "cell_type": "code",
   "execution_count": 0,
   "metadata": {
    "application/vnd.databricks.v1+cell": {
     "cellMetadata": {
      "byteLimit": 2048000,
      "rowLimit": 10000
     },
     "inputWidgets": {},
     "nuid": "70aeee1e-89c9-4876-b946-542fbfb2340b",
     "showTitle": false,
     "title": ""
    }
   },
   "outputs": [],
   "source": [
    "# Step22: Average Review score\n",
    "\n",
    "# Total average review charge.\n",
    "grp_date_avg_review_score = grp_date.agg(F.avg(\"product_review_score\").alias(\"avg_review_score\")).orderBy(col(\"order_placed_date\")\n",
    ".asc())\n",
    "\n",
    "## Total order average review per city\n",
    "grp_city_date_avg_review_score = grp_city_date.agg(F.avg(\"product_review_score\").alias(\"avg_review_score\")).orderBy(col(\"customer_city\").asc(),col(\"order_placed_date\").asc())\n",
    "\n",
    "## Total order average review per state\n",
    "grp_state_date_avg_review_score = grp_state_date.agg(F.avg(\"product_review_score\").alias(\"avg_review_score\")).orderBy(col(\"customer_state\").asc(),col(\"order_placed_date\").asc())"
   ]
  },
  {
   "cell_type": "code",
   "execution_count": 0,
   "metadata": {
    "application/vnd.databricks.v1+cell": {
     "cellMetadata": {
      "byteLimit": 2048000,
      "rowLimit": 10000
     },
     "inputWidgets": {},
     "nuid": "06864b8f-b5c4-4193-a936-2aac73edf2e5",
     "showTitle": false,
     "title": ""
    }
   },
   "outputs": [],
   "source": [
    "# Step23: Average Approval Time\n",
    "\n",
    "grp_date_avg_approval_time = grp_date.agg(F.avg(\"order_approval_time\").alias(\"avg_approval_time\")).orderBy(col(\"order_placed_date\")\n",
    ".asc())\t\n",
    "\n",
    "## Average Approval Time per city\n",
    "grp_city_date_avg_approval_time = grp_city_date.agg(F.avg(\"order_approval_time\").alias(\"avg_approval_time\")).orderBy(col(\"customer_city\").asc(),col(\"order_placed_date\").asc())\n",
    "\n",
    "## Average Approval Time per state\n",
    "grp_state_date_avg_approval_time = grp_state_date.agg(F.avg(\"order_approval_time\").alias(\"avg_approval_time\")).orderBy(col(\"customer_state\").asc(),col(\"order_placed_date\").asc())"
   ]
  },
  {
   "cell_type": "code",
   "execution_count": 0,
   "metadata": {
    "application/vnd.databricks.v1+cell": {
     "cellMetadata": {
      "byteLimit": 2048000,
      "rowLimit": 10000
     },
     "inputWidgets": {},
     "nuid": "57c914da-73d2-4470-8e97-099aff111775",
     "showTitle": false,
     "title": ""
    }
   },
   "outputs": [],
   "source": [
    "# Step24: Average Delivery Time\n",
    "\n",
    "grp_date_avg_delivery_time = grp_date.agg(F.avg(\"order_delivery_time\").alias(\"avg_delivery_time\")).orderBy(col(\"order_placed_date\").asc())\n",
    "\n",
    "## Average Approval Time per city\n",
    "grp_city_date_avg_delivery_time = grp_city_date.agg(F.avg(\"order_delivery_time\").alias(\"avg_delivery_time\")).orderBy(col(\"customer_city\").asc(),col(\"order_placed_date\").asc())\n",
    "\n",
    "## Average Approval Time per state\n",
    "grp_state_date_avg_delivery_time = grp_state_date.agg(F.avg(\"order_delivery_time\").alias(\"avg_delivery_time\")).orderBy(col(\"customer_state\").asc(),col(\"order_placed_date\").asc())"
   ]
  },
  {
   "cell_type": "code",
   "execution_count": 0,
   "metadata": {
    "application/vnd.databricks.v1+cell": {
     "cellMetadata": {
      "byteLimit": 2048000,
      "rowLimit": 10000
     },
     "inputWidgets": {},
     "nuid": "bb275393-318d-41d6-bafb-733a15c79cf6",
     "showTitle": false,
     "title": ""
    }
   },
   "outputs": [],
   "source": [
    "\n",
    "## ---------------------- INSIGHTS TO BE STORED ------------------\n",
    "# historical daily insights into 3 tables\n",
    "\n",
    "#i. Insights per period\n",
    "#ii. Insights per period per city\n",
    "#ii. Insights per period per state\n",
    "\n",
    "## Per period\n",
    "grp_date_insights = reduce(\n",
    "lambda x, y: x.join(y, on=[\"order_placed_date\"], how=\"left\"),\n",
    "[\n",
    "grp_date_total_sales,\n",
    "grp_date_total_freight_charge,\n",
    "grp_date_total_order_count,\n",
    "grp_date_avg_freight_charge,\n",
    "grp_date_avg_review_score,\n",
    "grp_date_avg_approval_time,\n",
    "grp_date_avg_delivery_time,\n",
    "]\n",
    ")\n",
    "\n",
    "## Per city\n",
    "grp_city_date_insights = reduce(\n",
    "lambda x, y: x.join(y, on=[\"customer_city\", \"order_placed_date\"], how=\"left\"),\n",
    "[\n",
    "grp_city_date_total_sales,\n",
    "grp_city_date_total_freight_charge,\n",
    "grp_city_date_total_order_count,\n",
    "grp_city_date_vg_freight_charge,\n",
    "grp_city_date_avg_review_score,\n",
    "grp_city_date_avg_approval_time,\n",
    "grp_city_date_avg_delivery_time,\n",
    "]\n",
    ")\n",
    "\n",
    "## Per State\n",
    "grp_state_date_insights = reduce(\n",
    "lambda x, y: x.join(y, on=[\"customer_state\", \"order_placed_date\"], how=\"left\"),\n",
    "[\n",
    "grp_state_date_total_sales,\n",
    "grp_state_date_total_freight_charge,\n",
    "grp_state_date_total_order_count,\n",
    "grp_state_date_vg_freight_charge,\n",
    "grp_state_date_avg_review_score,\n",
    "grp_state_date_avg_approval_time,\n",
    "grp_state_date_avg_delivery_time,\n",
    "]\n",
    ")"
   ]
  },
  {
   "cell_type": "code",
   "execution_count": 0,
   "metadata": {
    "application/vnd.databricks.v1+cell": {
     "cellMetadata": {
      "byteLimit": 2048000,
      "rowLimit": 10000
     },
     "inputWidgets": {},
     "nuid": "73b1f11a-13ff-4679-aca1-d78983239755",
     "showTitle": false,
     "title": ""
    }
   },
   "outputs": [],
   "source": [
    "# Step27: Write the insights as a CSV file into the file system [DBFS]\n",
    "\n",
    "# write pyspark dataframe as csv file into file system (dbfs -> Databricks file system assocaited with every dbricks workspace.)\n",
    "grp_date_insights.write.csv(\"dbfs:/FileStore/shared_uploads/odl_user_1393560@simplilearnss.onmicrosoft.com/grpdateinsights\", mode=\"overwrite\", header=True)\n",
    "grp_city_date_insights.write.csv(\"dbfs:/FileStore/tables/grpcitydateinsights\", mode=\"overwrite\", header=True)\n",
    "grp_state_date_insights.write.csv(\"dbfs:/FileStore/tables/grpstatedateinsights\", mode=\"overwrite\", header=True)"
   ]
  },
  {
   "cell_type": "code",
   "execution_count": 0,
   "metadata": {
    "application/vnd.databricks.v1+cell": {
     "cellMetadata": {
      "byteLimit": 2048000,
      "rowLimit": 10000
     },
     "inputWidgets": {},
     "nuid": "7969d2bb-7b8e-4226-87fc-94181d376939",
     "showTitle": false,
     "title": ""
    }
   },
   "outputs": [],
   "source": [
    "# Step 28 : ADLS Blob Object storage\n",
    "# write pyspark dataframe as csv file into storage account (Blob Storage Azure/AWS protocol)\n",
    "# Set the Azure storage account access key\n",
    "spark.conf.set(\n",
    "    \"fs.azure.account.key.retailanalyticsstaging.dfs.core.windows.net\",\n",
    "    \"****\"\n",
    ")\n",
    "\n",
    "grp_date_insights.write.csv(\n",
    "    \"abfss://staging-data@retailanalyticsstaging.dfs.core.windows.net/insights/grpdateinsights.csv\",\n",
    "    mode=\"overwrite\", header=True\n",
    ")\n",
    "grp_city_date_insights.write.csv(\n",
    "    \"abfss://staging-data@retailanalyticsstaging.dfs.core.windows.net/insights/grpcitydateinsights.csv\",\n",
    "    mode=\"overwrite\", header=True\n",
    ")\n",
    "grp_state_date_insights.write.csv(\n",
    "    \"abfss://staging-data@retailanalyticsstaging.dfs.core.windows.net/insights/grpstatedateinsights.csv\",\n",
    "    mode=\"overwrite\", header=True\n",
    ")"
   ]
  },
  {
   "cell_type": "code",
   "execution_count": 0,
   "metadata": {
    "application/vnd.databricks.v1+cell": {
     "cellMetadata": {},
     "inputWidgets": {},
     "nuid": "b600ea53-b127-44dd-93cf-a6fbe3353fb6",
     "showTitle": false,
     "title": ""
    }
   },
   "outputs": [],
   "source": []
  }
 ],
 "metadata": {
  "application/vnd.databricks.v1+notebook": {
   "dashboards": [],
   "environmentMetadata": null,
   "language": "python",
   "notebookMetadata": {
    "mostRecentlyExecutedCommandWithImplicitDF": {
     "commandId": 4389712740518991,
     "dataframes": [
      "_sqldf"
     ]
    },
    "pythonIndentUnit": 4
   },
   "notebookName": "Project-Ecommerce-Part3",
   "widgets": {}
  },
  "kernelspec": {
   "display_name": "Python 3 (ipykernel)",
   "language": "python",
   "name": "python3"
  },
  "language_info": {
   "codemirror_mode": {
    "name": "ipython",
    "version": 3
   },
   "file_extension": ".py",
   "mimetype": "text/x-python",
   "name": "python",
   "nbconvert_exporter": "python",
   "pygments_lexer": "ipython3",
   "version": "3.11.5"
  }
 },
 "nbformat": 4,
 "nbformat_minor": 1
}
