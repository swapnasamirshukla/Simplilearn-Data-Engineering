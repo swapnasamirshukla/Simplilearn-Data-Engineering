{
 "cells": [
  {
   "cell_type": "code",
   "execution_count": 0,
   "metadata": {
    "application/vnd.databricks.v1+cell": {
     "cellMetadata": {
      "byteLimit": 2048000,
      "rowLimit": 10000
     },
     "inputWidgets": {},
     "nuid": "11da7846-97c4-4a44-b4ad-d8a000502743",
     "showTitle": false,
     "title": ""
    }
   },
   "outputs": [
    {
     "data": {
      "text/html": [
       "<style scoped>\n",
       "  .table-result-container {\n",
       "    max-height: 300px;\n",
       "    overflow: auto;\n",
       "  }\n",
       "  table, th, td {\n",
       "    border: 1px solid black;\n",
       "    border-collapse: collapse;\n",
       "  }\n",
       "  th, td {\n",
       "    padding: 5px;\n",
       "  }\n",
       "  th {\n",
       "    text-align: left;\n",
       "  }\n",
       "</style><div class='table-result-container'><table class='table-result'><thead style='background-color: white'><tr><th>path</th><th>name</th><th>size</th><th>modificationTime</th></tr></thead><tbody><tr><td>dbfs:/mnt/staging/part-00000-282d0afa-f7ec-462d-8627-eff9a318bf29-c000.snappy.parquet</td><td>part-00000-282d0afa-f7ec-462d-8627-eff9a318bf29-c000.snappy.parquet</td><td>2322</td><td>1718890308000</td></tr></tbody></table></div>"
      ]
     },
     "metadata": {
      "application/vnd.databricks.v1+output": {
       "addedWidgets": {},
       "aggData": [],
       "aggError": "",
       "aggOverflow": false,
       "aggSchema": [],
       "aggSeriesLimitReached": false,
       "aggType": "",
       "arguments": {},
       "columnCustomDisplayInfos": {},
       "data": [
        [
         "dbfs:/mnt/staging/part-00000-282d0afa-f7ec-462d-8627-eff9a318bf29-c000.snappy.parquet",
         "part-00000-282d0afa-f7ec-462d-8627-eff9a318bf29-c000.snappy.parquet",
         2322,
         1718890308000
        ]
       ],
       "datasetInfos": [],
       "dbfsResultPath": null,
       "isJsonSchema": true,
       "metadata": {},
       "overflow": false,
       "plotOptions": {
        "customPlotOptions": {},
        "displayType": "table",
        "pivotAggregation": null,
        "pivotColumns": null,
        "xColumns": null,
        "yColumns": null
       },
       "removedWidgets": [],
       "schema": [
        {
         "metadata": "{}",
         "name": "path",
         "type": "\"string\""
        },
        {
         "metadata": "{}",
         "name": "name",
         "type": "\"string\""
        },
        {
         "metadata": "{}",
         "name": "size",
         "type": "\"long\""
        },
        {
         "metadata": "{}",
         "name": "modificationTime",
         "type": "\"long\""
        }
       ],
       "type": "table"
      }
     },
     "output_type": "display_data"
    }
   ],
   "source": [
    "# Define your storage account name and key\n",
    "storage_account_name = \"samirstaging\"\n",
    "storage_account_key = \"*****\"\n",
    "\n",
    "# Define the container name and mount point\n",
    "container_name = \"staging-data\"\n",
    "mount_point = \"/mnt/staging\"\n",
    "\n",
    "# Mount the storage account\n",
    "dbutils.fs.mount(\n",
    "    source = f\"wasbs://{container_name}@{storage_account_name}.blob.core.windows.net/\",\n",
    "    mount_point = mount_point,\n",
    "    extra_configs = {f\"fs.azure.account.key.{storage_account_name}.blob.core.windows.net\": storage_account_key}\n",
    ")\n",
    "\n",
    "# List the files in the mounted directory to verify\n",
    "display(dbutils.fs.ls(mount_point))"
   ]
  },
  {
   "cell_type": "code",
   "execution_count": 0,
   "metadata": {
    "application/vnd.databricks.v1+cell": {
     "cellMetadata": {
      "byteLimit": 2048000,
      "rowLimit": 10000
     },
     "inputWidgets": {},
     "nuid": "c46ca575-e5fc-451e-b709-b801fcfe0604",
     "showTitle": false,
     "title": ""
    }
   },
   "outputs": [],
   "source": [
    "# part-00000-282d0afa-f7ec-462d-8627-eff9a318bf29-c000.snappy.parquet\n",
    "\n",
    "df = spark.read.parquet(\"/mnt/staging/part-00000-282d0afa-f7ec-462d-8627-eff9a318bf29-c000.snappy.parquet\")"
   ]
  },
  {
   "cell_type": "code",
   "execution_count": 0,
   "metadata": {
    "application/vnd.databricks.v1+cell": {
     "cellMetadata": {
      "byteLimit": 2048000,
      "rowLimit": 10000
     },
     "inputWidgets": {},
     "nuid": "a103ccb3-5781-4557-8a17-bc7a64c5747e",
     "showTitle": false,
     "title": ""
    }
   },
   "outputs": [],
   "source": [
    "df.write.format(\"delta\").save(\"/mnt/delta/samir-delta-table\")"
   ]
  },
  {
   "cell_type": "code",
   "execution_count": 0,
   "metadata": {
    "application/vnd.databricks.v1+cell": {
     "cellMetadata": {
      "byteLimit": 2048000,
      "rowLimit": 10000
     },
     "inputWidgets": {},
     "nuid": "eec2cece-1ae3-4c0e-aec1-d63419f1e5e7",
     "showTitle": false,
     "title": ""
    }
   },
   "outputs": [
    {
     "data": {
      "text/html": [
       "<style scoped>\n",
       "  .table-result-container {\n",
       "    max-height: 300px;\n",
       "    overflow: auto;\n",
       "  }\n",
       "  table, th, td {\n",
       "    border: 1px solid black;\n",
       "    border-collapse: collapse;\n",
       "  }\n",
       "  th, td {\n",
       "    padding: 5px;\n",
       "  }\n",
       "  th {\n",
       "    text-align: left;\n",
       "  }\n",
       "</style><div class='table-result-container'><table class='table-result'><thead style='background-color: white'><tr><th>candidateName</th><th>CertificationDetails</th><th>Education</th><th>PhoneNo</th><th>PrimarySkill</th><th>SecondarySkill</th></tr></thead><tbody><tr><td>Amit Kumar</td><td>DP 203, AZ 104</td><td>Bachelors of Engineering</td><td>7821990099</td><td>.NET, Azure</td><td>AWS</td></tr><tr><td>Gunjan Kumar</td><td>null</td><td>MCA</td><td>7821990099</td><td>C#</td><td>Java</td></tr><tr><td>Sandip Kumar</td><td>Google Cloud Professional Cloud Architect</td><td>Bachelors of Engineering</td><td>7999990099</td><td>Java</td><td>Google Cloud</td></tr><tr><td>Vinod Kumar</td><td>null</td><td>Bachelors of Engineering</td><td>6221990099</td><td>Javascript, ASP.NET</td><td>WCF, Azure</td></tr><tr><td>Vivek Kumar</td><td>Azure Data Scientist</td><td>Bachelors of Engineering</td><td>7829999999</td><td>Machine Learning</td><td>Data Engineering</td></tr></tbody></table></div>"
      ]
     },
     "metadata": {
      "application/vnd.databricks.v1+output": {
       "addedWidgets": {},
       "aggData": [],
       "aggError": "",
       "aggOverflow": false,
       "aggSchema": [],
       "aggSeriesLimitReached": false,
       "aggType": "",
       "arguments": {},
       "columnCustomDisplayInfos": {},
       "data": [
        [
         "Amit Kumar",
         "DP 203, AZ 104",
         "Bachelors of Engineering",
         "7821990099",
         ".NET, Azure",
         "AWS"
        ],
        [
         "Gunjan Kumar",
         "null",
         "MCA",
         "7821990099",
         "C#",
         "Java"
        ],
        [
         "Sandip Kumar",
         "Google Cloud Professional Cloud Architect",
         "Bachelors of Engineering",
         "7999990099",
         "Java",
         "Google Cloud"
        ],
        [
         "Vinod Kumar",
         "null",
         "Bachelors of Engineering",
         "6221990099",
         "Javascript, ASP.NET",
         "WCF, Azure"
        ],
        [
         "Vivek Kumar",
         "Azure Data Scientist",
         "Bachelors of Engineering",
         "7829999999",
         "Machine Learning",
         "Data Engineering"
        ]
       ],
       "datasetInfos": [],
       "dbfsResultPath": null,
       "isJsonSchema": true,
       "metadata": {},
       "overflow": false,
       "plotOptions": {
        "customPlotOptions": {},
        "displayType": "table",
        "pivotAggregation": null,
        "pivotColumns": null,
        "xColumns": null,
        "yColumns": null
       },
       "removedWidgets": [],
       "schema": [
        {
         "metadata": "{}",
         "name": "candidateName",
         "type": "\"string\""
        },
        {
         "metadata": "{}",
         "name": "CertificationDetails",
         "type": "\"string\""
        },
        {
         "metadata": "{}",
         "name": "Education",
         "type": "\"string\""
        },
        {
         "metadata": "{}",
         "name": "PhoneNo",
         "type": "\"string\""
        },
        {
         "metadata": "{}",
         "name": "PrimarySkill",
         "type": "\"string\""
        },
        {
         "metadata": "{}",
         "name": "SecondarySkill",
         "type": "\"string\""
        }
       ],
       "type": "table"
      }
     },
     "output_type": "display_data"
    }
   ],
   "source": [
    "spark.sql(\"CREATE TABLE candidates USING DELTA LOCATION '/mnt/delta/samir-delta-table'\")\n",
    "\n",
    "res = spark.sql(\"SELECT * FROM candidates\")\n",
    "display(res)"
   ]
  },
  {
   "cell_type": "code",
   "execution_count": 0,
   "metadata": {
    "application/vnd.databricks.v1+cell": {
     "cellMetadata": {},
     "inputWidgets": {},
     "nuid": "bcfcff88-1e3d-4a7e-94e3-50237201d0d9",
     "showTitle": false,
     "title": ""
    }
   },
   "outputs": [],
   "source": []
  }
 ],
 "metadata": {
  "application/vnd.databricks.v1+notebook": {
   "dashboards": [],
   "environmentMetadata": null,
   "language": "python",
   "notebookMetadata": {
    "pythonIndentUnit": 4
   },
   "notebookName": "Project1-PGPDE",
   "widgets": {}
  },
  "kernelspec": {
   "display_name": "Python 3 (ipykernel)",
   "language": "python",
   "name": "python3"
  },
  "language_info": {
   "codemirror_mode": {
    "name": "ipython",
    "version": 3
   },
   "file_extension": ".py",
   "mimetype": "text/x-python",
   "name": "python",
   "nbconvert_exporter": "python",
   "pygments_lexer": "ipython3",
   "version": "3.11.5"
  }
 },
 "nbformat": 4,
 "nbformat_minor": 1
}
