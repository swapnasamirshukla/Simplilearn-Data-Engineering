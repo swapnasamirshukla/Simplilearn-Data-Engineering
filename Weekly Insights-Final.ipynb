{
 "cells": [
  {
   "cell_type": "code",
   "execution_count": 0,
   "metadata": {
    "application/vnd.databricks.v1+cell": {
     "cellMetadata": {
      "byteLimit": 2048000,
      "rowLimit": 10000
     },
     "inputWidgets": {},
     "nuid": "6234e9ed-2c17-40f6-8851-4fcc7588e881",
     "showTitle": false,
     "title": ""
    }
   },
   "outputs": [
    {
     "data": {
      "text/html": [
       "<style scoped>\n",
       "  .table-result-container {\n",
       "    max-height: 300px;\n",
       "    overflow: auto;\n",
       "  }\n",
       "  table, th, td {\n",
       "    border: 1px solid black;\n",
       "    border-collapse: collapse;\n",
       "  }\n",
       "  th, td {\n",
       "    padding: 5px;\n",
       "  }\n",
       "  th {\n",
       "    text-align: left;\n",
       "  }\n",
       "</style><div class='table-result-container'><table class='table-result'><thead style='background-color: white'><tr><th>path</th><th>name</th><th>size</th><th>modificationTime</th></tr></thead><tbody><tr><td>dbfs:/mnt/staging/part-merged.csv</td><td>part-merged.csv</td><td>10574531</td><td>1719678194000</td></tr></tbody></table></div>"
      ]
     },
     "metadata": {
      "application/vnd.databricks.v1+output": {
       "addedWidgets": {},
       "aggData": [],
       "aggError": "",
       "aggOverflow": false,
       "aggSchema": [],
       "aggSeriesLimitReached": false,
       "aggType": "",
       "arguments": {},
       "columnCustomDisplayInfos": {},
       "data": [
        [
         "dbfs:/mnt/staging/part-merged.csv",
         "part-merged.csv",
         10574531,
         1719678194000
        ]
       ],
       "datasetInfos": [],
       "dbfsResultPath": null,
       "isJsonSchema": true,
       "metadata": {},
       "overflow": false,
       "plotOptions": {
        "customPlotOptions": {},
        "displayType": "table",
        "pivotAggregation": null,
        "pivotColumns": null,
        "xColumns": null,
        "yColumns": null
       },
       "removedWidgets": [],
       "schema": [
        {
         "metadata": "{}",
         "name": "path",
         "type": "\"string\""
        },
        {
         "metadata": "{}",
         "name": "name",
         "type": "\"string\""
        },
        {
         "metadata": "{}",
         "name": "size",
         "type": "\"long\""
        },
        {
         "metadata": "{}",
         "name": "modificationTime",
         "type": "\"long\""
        }
       ],
       "type": "table"
      }
     },
     "output_type": "display_data"
    }
   ],
   "source": [
    "# Define your storage account name and key\n",
    "storage_account_name = \"retailanalytics\"\n",
    "storage_account_key = \"****\"\n",
    "\n",
    "# Define the container name and mount point\n",
    "container_name = \"staging-data\"\n",
    "mount_point = \"/mnt/staging\"\n",
    "\n",
    "# Mount the storage account\n",
    "dbutils.fs.mount(\n",
    "    source = f\"wasbs://{container_name}@{storage_account_name}.blob.core.windows.net/\",\n",
    "    mount_point = mount_point,\n",
    "    extra_configs = {f\"fs.azure.account.key.{storage_account_name}.blob.core.windows.net\": storage_account_key}\n",
    ")\n",
    "\n",
    "# List the files in the mounted directory to verify\n",
    "display(dbutils.fs.ls(mount_point))"
   ]
  },
  {
   "cell_type": "code",
   "execution_count": 0,
   "metadata": {
    "application/vnd.databricks.v1+cell": {
     "cellMetadata": {
      "byteLimit": 2048000,
      "rowLimit": 10000
     },
     "inputWidgets": {},
     "nuid": "ddc50166-0f05-437c-8aa0-0fb9d9e16e7b",
     "showTitle": false,
     "title": ""
    }
   },
   "outputs": [],
   "source": [
    "df = spark.read.csv(\"/mnt/staging/part-merged.csv\")"
   ]
  },
  {
   "cell_type": "code",
   "execution_count": 0,
   "metadata": {
    "application/vnd.databricks.v1+cell": {
     "cellMetadata": {
      "byteLimit": 2048000,
      "implicitDf": true,
      "rowLimit": 10000
     },
     "inputWidgets": {},
     "nuid": "85e277cd-20a5-40b4-8072-f0ed42f14a23",
     "showTitle": false,
     "title": ""
    }
   },
   "outputs": [
    {
     "data": {
      "text/html": [
       "<style scoped>\n",
       "  .table-result-container {\n",
       "    max-height: 300px;\n",
       "    overflow: auto;\n",
       "  }\n",
       "  table, th, td {\n",
       "    border: 1px solid black;\n",
       "    border-collapse: collapse;\n",
       "  }\n",
       "  th, td {\n",
       "    padding: 5px;\n",
       "  }\n",
       "  th {\n",
       "    text-align: left;\n",
       "  }\n",
       "</style><div class='table-result-container'><table class='table-result'><thead style='background-color: white'><tr></tr></thead><tbody></tbody></table></div>"
      ]
     },
     "metadata": {
      "application/vnd.databricks.v1+output": {
       "addedWidgets": {},
       "aggData": [],
       "aggError": "",
       "aggOverflow": false,
       "aggSchema": [],
       "aggSeriesLimitReached": false,
       "aggType": "",
       "arguments": {},
       "columnCustomDisplayInfos": {},
       "data": [],
       "datasetInfos": [],
       "dbfsResultPath": null,
       "isJsonSchema": true,
       "metadata": {
        "dataframeName": null
       },
       "overflow": false,
       "plotOptions": {
        "customPlotOptions": {},
        "displayType": "table",
        "pivotAggregation": null,
        "pivotColumns": null,
        "xColumns": null,
        "yColumns": null
       },
       "removedWidgets": [],
       "schema": [],
       "type": "table"
      }
     },
     "output_type": "display_data"
    }
   ],
   "source": [
    "%sql\n",
    "-- create database in hive metastore catalog\n",
    "CREATE DATABASE IF NOT EXISTS olistdatabase;"
   ]
  },
  {
   "cell_type": "code",
   "execution_count": 0,
   "metadata": {
    "application/vnd.databricks.v1+cell": {
     "cellMetadata": {
      "byteLimit": 2048000,
      "implicitDf": true,
      "rowLimit": 10000
     },
     "inputWidgets": {},
     "nuid": "f209033e-6f2e-4e17-b41b-baffda882501",
     "showTitle": false,
     "title": ""
    }
   },
   "outputs": [
    {
     "data": {
      "text/html": [
       "<style scoped>\n",
       "  .table-result-container {\n",
       "    max-height: 300px;\n",
       "    overflow: auto;\n",
       "  }\n",
       "  table, th, td {\n",
       "    border: 1px solid black;\n",
       "    border-collapse: collapse;\n",
       "  }\n",
       "  th, td {\n",
       "    padding: 5px;\n",
       "  }\n",
       "  th {\n",
       "    text-align: left;\n",
       "  }\n",
       "</style><div class='table-result-container'><table class='table-result'><thead style='background-color: white'><tr></tr></thead><tbody></tbody></table></div>"
      ]
     },
     "metadata": {
      "application/vnd.databricks.v1+output": {
       "addedWidgets": {},
       "aggData": [],
       "aggError": "",
       "aggOverflow": false,
       "aggSchema": [],
       "aggSeriesLimitReached": false,
       "aggType": "",
       "arguments": {},
       "columnCustomDisplayInfos": {},
       "data": [],
       "datasetInfos": [],
       "dbfsResultPath": null,
       "isJsonSchema": true,
       "metadata": {
        "dataframeName": null
       },
       "overflow": false,
       "plotOptions": {
        "customPlotOptions": {},
        "displayType": "table",
        "pivotAggregation": null,
        "pivotColumns": null,
        "xColumns": null,
        "yColumns": null
       },
       "removedWidgets": [],
       "schema": [],
       "type": "table"
      }
     },
     "output_type": "display_data"
    }
   ],
   "source": [
    "%sql\n",
    "CREATE TABLE IF NOT EXISTS olistdatabase.olisttable\n",
    "(\n",
    "id STRING,\n",
    "order_status STRING,\n",
    "order_product_value DOUBLE,\n",
    "order_freight_charge DOUBLE,\n",
    "order_product_qty INT,\n",
    "customer_city STRING,\n",
    "customer_state STRING,\n",
    "customer_zipcode_prefix INT,\n",
    "product_name_len INT,\n",
    "product_description_len INT,\n",
    "product_photos_qty INT,\n",
    "product_review_score INT,\n",
    "order_placed_at TIMESTAMP,\n",
    "order_approved_at TIMESTAMP,\n",
    "order_delivered_at TIMESTAMP\n",
    ")\n",
    "USING CSV\n",
    "OPTIONS\n",
    "(\n",
    "header='false',\n",
    "timestampFormat='dd-MM-yyyy HH:mm'\n",
    ");"
   ]
  },
  {
   "cell_type": "code",
   "execution_count": 0,
   "metadata": {
    "application/vnd.databricks.v1+cell": {
     "cellMetadata": {
      "byteLimit": 2048000,
      "implicitDf": true,
      "rowLimit": 10000
     },
     "inputWidgets": {},
     "nuid": "6a7557f3-5498-4c41-a787-af4f34fb0b5a",
     "showTitle": false,
     "title": ""
    }
   },
   "outputs": [
    {
     "data": {
      "text/html": [
       "<style scoped>\n",
       "  .table-result-container {\n",
       "    max-height: 300px;\n",
       "    overflow: auto;\n",
       "  }\n",
       "  table, th, td {\n",
       "    border: 1px solid black;\n",
       "    border-collapse: collapse;\n",
       "  }\n",
       "  th, td {\n",
       "    padding: 5px;\n",
       "  }\n",
       "  th {\n",
       "    text-align: left;\n",
       "  }\n",
       "</style><div class='table-result-container'><table class='table-result'><thead style='background-color: white'><tr></tr></thead><tbody></tbody></table></div>"
      ]
     },
     "metadata": {
      "application/vnd.databricks.v1+output": {
       "addedWidgets": {},
       "aggData": [],
       "aggError": "",
       "aggOverflow": false,
       "aggSchema": [],
       "aggSeriesLimitReached": false,
       "aggType": "",
       "arguments": {},
       "columnCustomDisplayInfos": {},
       "data": [],
       "datasetInfos": [],
       "dbfsResultPath": null,
       "isJsonSchema": true,
       "metadata": {
        "dataframeName": null
       },
       "overflow": false,
       "plotOptions": {
        "customPlotOptions": {},
        "displayType": "table",
        "pivotAggregation": null,
        "pivotColumns": null,
        "xColumns": null,
        "yColumns": null
       },
       "removedWidgets": [],
       "schema": [],
       "type": "table"
      }
     },
     "output_type": "display_data"
    }
   ],
   "source": [
    "%sql\n",
    "INSERT OVERWRITE olistdatabase.olisttable\n",
    "SELECT \n",
    "    _c0 AS id,\n",
    "    _c1 AS order_status,\n",
    "    CAST(_c2 AS DOUBLE) AS order_product_value,\n",
    "    CAST(_c3 AS DOUBLE) AS order_freight_charge,\n",
    "    CAST(_c4 AS DOUBLE) AS order_product_qty,\n",
    "    _c5 AS customer_city,\n",
    "    _c6 AS customer_state,\n",
    "    CAST(_c7 AS INT) AS customer_zipcode_prefix,\n",
    "    CAST(_c8 AS INT) AS product_name_len,\n",
    "    CAST(_c9 AS INT) AS product_description_len,\n",
    "    CAST(_c10 AS INT) AS product_photos_qty,\n",
    "    CAST(_c11 AS INT) AS product_review_score,\n",
    "    to_timestamp(_c12, 'dd-MM-yyyy HH:mm') AS order_placed_at,\n",
    "    to_timestamp(_c13, 'dd-MM-yyyy HH:mm') AS order_approved_at,\n",
    "    to_timestamp(_c14, 'dd-MM-yyyy HH:mm') AS order_delivered_at\n",
    "FROM csv.`/mnt/staging/part-merged.csv`;\n"
   ]
  },
  {
   "cell_type": "code",
   "execution_count": 0,
   "metadata": {
    "application/vnd.databricks.v1+cell": {
     "cellMetadata": {
      "byteLimit": 2048000,
      "implicitDf": true,
      "rowLimit": 10000
     },
     "inputWidgets": {},
     "nuid": "7277fa53-d2cf-42a3-8e33-3e736dd075e6",
     "showTitle": false,
     "title": ""
    }
   },
   "outputs": [
    {
     "data": {
      "text/html": [
       "<style scoped>\n",
       "  .table-result-container {\n",
       "    max-height: 300px;\n",
       "    overflow: auto;\n",
       "  }\n",
       "  table, th, td {\n",
       "    border: 1px solid black;\n",
       "    border-collapse: collapse;\n",
       "  }\n",
       "  th, td {\n",
       "    padding: 5px;\n",
       "  }\n",
       "  th {\n",
       "    text-align: left;\n",
       "  }\n",
       "</style><div class='table-result-container'><table class='table-result'><thead style='background-color: white'><tr><th>id</th><th>order_status</th><th>order_product_value</th><th>order_freight_charge</th><th>order_product_qty</th><th>customer_city</th><th>customer_state</th><th>customer_zipcode_prefix</th><th>product_name_len</th><th>product_description_len</th><th>product_photos_qty</th><th>product_review_score</th><th>order_placed_at</th><th>order_approved_at</th><th>order_delivered_at</th></tr></thead><tbody><tr><td>1</td><td>delivered</td><td>79.0</td><td>17.8</td><td>1</td><td>Luziania</td><td>GO</td><td>728</td><td>50</td><td>201</td><td>2</td><td>5</td><td>2017-10-02T10:56:00Z</td><td>2017-10-02T11:07:00Z</td><td>2017-10-10T21:25:00Z</td></tr><tr><td>2</td><td>delivered</td><td>119.9</td><td>27.16</td><td>1</td><td>Joinville</td><td>SC</td><td>892</td><td>50</td><td>511</td><td>3</td><td>5</td><td>2018-07-24T20:41:00Z</td><td>2018-07-26T03:24:00Z</td><td>2018-08-07T15:27:00Z</td></tr><tr><td>3</td><td>delivered</td><td>519.99</td><td>41.69</td><td>1</td><td>Serra</td><td>ES</td><td>291</td><td>48</td><td>1156</td><td>2</td><td>1</td><td>2018-08-08T08:38:00Z</td><td>2018-08-08T08:55:00Z</td><td>2018-08-17T18:06:00Z</td></tr><tr><td>4</td><td>delivered</td><td>29.5</td><td>17.92</td><td>1</td><td>RIO DE JANEIRO</td><td>RJ</td><td>222</td><td>21</td><td>207</td><td>2</td><td>4</td><td>2017-11-18T19:28:00Z</td><td>2017-11-18T19:45:00Z</td><td>2017-12-02T00:28:00Z</td></tr><tr><td>5</td><td>delivered</td><td>26.77</td><td>23.11</td><td>1</td><td>Sao Paulo</td><td>SP</td><td>40</td><td>41</td><td>451</td><td>1</td><td>5</td><td>2018-02-13T21:18:00Z</td><td>2018-02-13T22:20:00Z</td><td>2018-02-16T18:17:00Z</td></tr></tbody></table></div>"
      ]
     },
     "metadata": {
      "application/vnd.databricks.v1+output": {
       "addedWidgets": {},
       "aggData": [],
       "aggError": "",
       "aggOverflow": false,
       "aggSchema": [],
       "aggSeriesLimitReached": false,
       "aggType": "",
       "arguments": {},
       "columnCustomDisplayInfos": {},
       "data": [
        [
         "1",
         "delivered",
         79,
         17.8,
         1,
         "Luziania",
         "GO",
         728,
         50,
         201,
         2,
         5,
         "2017-10-02T10:56:00Z",
         "2017-10-02T11:07:00Z",
         "2017-10-10T21:25:00Z"
        ],
        [
         "2",
         "delivered",
         119.9,
         27.16,
         1,
         "Joinville",
         "SC",
         892,
         50,
         511,
         3,
         5,
         "2018-07-24T20:41:00Z",
         "2018-07-26T03:24:00Z",
         "2018-08-07T15:27:00Z"
        ],
        [
         "3",
         "delivered",
         519.99,
         41.69,
         1,
         "Serra",
         "ES",
         291,
         48,
         1156,
         2,
         1,
         "2018-08-08T08:38:00Z",
         "2018-08-08T08:55:00Z",
         "2018-08-17T18:06:00Z"
        ],
        [
         "4",
         "delivered",
         29.5,
         17.92,
         1,
         "RIO DE JANEIRO",
         "RJ",
         222,
         21,
         207,
         2,
         4,
         "2017-11-18T19:28:00Z",
         "2017-11-18T19:45:00Z",
         "2017-12-02T00:28:00Z"
        ],
        [
         "5",
         "delivered",
         26.77,
         23.11,
         1,
         "Sao Paulo",
         "SP",
         40,
         41,
         451,
         1,
         5,
         "2018-02-13T21:18:00Z",
         "2018-02-13T22:20:00Z",
         "2018-02-16T18:17:00Z"
        ]
       ],
       "datasetInfos": [],
       "dbfsResultPath": null,
       "isJsonSchema": true,
       "metadata": {
        "dataframeName": "_sqldf",
        "executionCount": 3
       },
       "overflow": false,
       "plotOptions": {
        "customPlotOptions": {},
        "displayType": "table",
        "pivotAggregation": null,
        "pivotColumns": null,
        "xColumns": null,
        "yColumns": null
       },
       "removedWidgets": [],
       "schema": [
        {
         "metadata": "{}",
         "name": "id",
         "type": "\"string\""
        },
        {
         "metadata": "{}",
         "name": "order_status",
         "type": "\"string\""
        },
        {
         "metadata": "{}",
         "name": "order_product_value",
         "type": "\"double\""
        },
        {
         "metadata": "{}",
         "name": "order_freight_charge",
         "type": "\"double\""
        },
        {
         "metadata": "{}",
         "name": "order_product_qty",
         "type": "\"integer\""
        },
        {
         "metadata": "{}",
         "name": "customer_city",
         "type": "\"string\""
        },
        {
         "metadata": "{}",
         "name": "customer_state",
         "type": "\"string\""
        },
        {
         "metadata": "{}",
         "name": "customer_zipcode_prefix",
         "type": "\"integer\""
        },
        {
         "metadata": "{}",
         "name": "product_name_len",
         "type": "\"integer\""
        },
        {
         "metadata": "{}",
         "name": "product_description_len",
         "type": "\"integer\""
        },
        {
         "metadata": "{}",
         "name": "product_photos_qty",
         "type": "\"integer\""
        },
        {
         "metadata": "{}",
         "name": "product_review_score",
         "type": "\"integer\""
        },
        {
         "metadata": "{}",
         "name": "order_placed_at",
         "type": "\"timestamp\""
        },
        {
         "metadata": "{}",
         "name": "order_approved_at",
         "type": "\"timestamp\""
        },
        {
         "metadata": "{}",
         "name": "order_delivered_at",
         "type": "\"timestamp\""
        }
       ],
       "type": "table"
      }
     },
     "output_type": "display_data"
    }
   ],
   "source": [
    "%sql\n",
    "select * from olistdatabase.olisttable limit 5"
   ]
  },
  {
   "cell_type": "code",
   "execution_count": 0,
   "metadata": {
    "application/vnd.databricks.v1+cell": {
     "cellMetadata": {
      "byteLimit": 2048000,
      "rowLimit": 10000
     },
     "inputWidgets": {},
     "nuid": "31117958-e495-482b-91ff-7181635c4eb5",
     "showTitle": false,
     "title": ""
    }
   },
   "outputs": [
    {
     "name": "stdout",
     "output_type": "stream",
     "text": [
      "root\n",
      " |-- id: string (nullable = true)\n",
      " |-- order_status: string (nullable = true)\n",
      " |-- order_product_value: double (nullable = true)\n",
      " |-- order_freight_charge: double (nullable = true)\n",
      " |-- order_product_qty: integer (nullable = true)\n",
      " |-- customer_city: string (nullable = true)\n",
      " |-- customer_state: string (nullable = true)\n",
      " |-- customer_zipcode_prefix: integer (nullable = true)\n",
      " |-- product_name_len: integer (nullable = true)\n",
      " |-- product_description_len: integer (nullable = true)\n",
      " |-- product_photos_qty: integer (nullable = true)\n",
      " |-- product_review_score: integer (nullable = true)\n",
      " |-- order_placed_at: timestamp (nullable = true)\n",
      " |-- order_approved_at: timestamp (nullable = true)\n",
      " |-- order_delivered_at: timestamp (nullable = true)\n",
      "\n"
     ]
    }
   ],
   "source": [
    "## Step15: Read the Hive table from the Hive database into a Spark DataFrame\n",
    "\n",
    "df = spark.table(\"olistdatabase.olisttable\")\n",
    "#df.display(); \n",
    "df.printSchema()"
   ]
  },
  {
   "cell_type": "code",
   "execution_count": 0,
   "metadata": {
    "application/vnd.databricks.v1+cell": {
     "cellMetadata": {
      "byteLimit": 2048000,
      "rowLimit": 10000
     },
     "inputWidgets": {},
     "nuid": "0e0adb95-a801-41cf-a816-7f0d3b7eaa5a",
     "showTitle": false,
     "title": ""
    }
   },
   "outputs": [],
   "source": [
    "from pyspark.sql import functions as F\n",
    "from pyspark.sql.functions import col\n",
    "from functools import reduce"
   ]
  },
  {
   "cell_type": "code",
   "execution_count": 0,
   "metadata": {
    "application/vnd.databricks.v1+cell": {
     "cellMetadata": {
      "byteLimit": 2048000,
      "rowLimit": 10000
     },
     "inputWidgets": {},
     "nuid": "ad32d06b-c27e-4e1d-8125-3e89a7cb398e",
     "showTitle": false,
     "title": ""
    }
   },
   "outputs": [],
   "source": [
    "### Step16: Calculate the order metrics\n",
    "\n",
    "df = df.withColumn(\"order_sales\", col(\"order_product_value\") * col(\"order_product_qty\"))\n",
    "df = df.withColumn(\"order_approval_time\", col(\"order_approved_at\") - col(\"order_placed_at\"))\n",
    "df = df.withColumn(\"order_delivery_time\", col(\"order_delivered_at\") - col(\"order_placed_at\"))\n",
    "df = df.withColumn(\"order_placed_date\", F.to_date(col(\"order_placed_at\")))\n",
    "df = df.withColumn(\"order_placed_weekdate\", F.trunc(col(\"order_placed_at\"), \"week\"))\n",
    "#df.display();"
   ]
  },
  {
   "cell_type": "code",
   "execution_count": 0,
   "metadata": {
    "application/vnd.databricks.v1+cell": {
     "cellMetadata": {
      "byteLimit": 2048000,
      "rowLimit": 10000
     },
     "inputWidgets": {},
     "nuid": "edd87fc2-8955-4dfa-b34a-396197d5a757",
     "showTitle": false,
     "title": ""
    }
   },
   "outputs": [],
   "source": [
    "## ---------------------- WEEKLY INSIGHTS ------------------------\n",
    "\n",
    "# Compute the historical weekly insights (We will need this values in further steps.)\n",
    "\n",
    "grp_weekdate = df.groupBy(col(\"order_placed_weekdate\"))\n",
    "grp_city_weekdate = df.groupBy(col(\"customer_city\"), col(\"order_placed_weekdate\"))\n",
    "grp_state_weekdate = df.groupBy(col(\"customer_state\"), col(\"order_placed_weekdate\"))"
   ]
  },
  {
   "cell_type": "code",
   "execution_count": 0,
   "metadata": {
    "application/vnd.databricks.v1+cell": {
     "cellMetadata": {
      "byteLimit": 2048000,
      "rowLimit": 10000
     },
     "inputWidgets": {},
     "nuid": "aff72fbc-3ae5-4d7c-863d-d70c563a5a66",
     "showTitle": false,
     "title": ""
    }
   },
   "outputs": [],
   "source": [
    "## Step18:\n",
    "\n",
    "## Total sales\n",
    "grp_date_total_sales = grp_weekdate.agg(F.sum(\"order_sales\").alias(\"total_sales\")).orderBy(col(\"order_placed_weekdate\").asc())\n",
    "\n",
    "## Total sales per city\n",
    "grp_city_date_total_sales = grp_city_weekdate.agg(F.sum(\"order_sales\").alias(\"total_sales\")).orderBy(col(\"customer_city\").asc(),\n",
    "col(\"order_placed_weekdate\").asc())\n",
    "\n",
    "##Total sales per state\n",
    "grp_state_date_total_sales = grp_state_weekdate.agg(F.sum(\"order_sales\").alias(\"total_sales\")).orderBy(col(\"customer_state\").asc(),\n",
    "col(\"order_placed_weekdate\").asc())"
   ]
  },
  {
   "cell_type": "code",
   "execution_count": 0,
   "metadata": {
    "application/vnd.databricks.v1+cell": {
     "cellMetadata": {
      "byteLimit": 2048000,
      "rowLimit": 10000
     },
     "inputWidgets": {},
     "nuid": "9e0c4f65-2bb7-4efc-a1d4-30de9ce94ae9",
     "showTitle": false,
     "title": ""
    }
   },
   "outputs": [],
   "source": [
    "## Step19:\n",
    "\n",
    "#Total Freight Charge\n",
    "#i. Total freight charge\n",
    "#ii. Total freight charge per city\n",
    "#iii. Total freight charge per state\n",
    "## Total freight charge\n",
    "grp_date_total_freight_charge = grp_weekdate.agg(F.sum(\"order_freight_charge\").alias(\"total_freight_charge\")).orderBy(col(\"order_placed_weekdate\").asc())\n",
    "\n",
    "## Total freight charge per city.\n",
    "grp_city_date_total_freight_charge = grp_city_weekdate.agg(F.sum(\"order_freight_charge\").alias(\"total_freight_charge\")).orderBy(col(\"customer_city\").asc(),col(\"order_placed_weekdate\").asc())\n",
    "\n",
    "## Total freight charge per state.\n",
    "grp_state_date_total_freight_charge = grp_state_weekdate.agg(F.sum(\"order_freight_charge\").alias(\"total_freight_charge\")).orderBy(col(\"customer_state\").asc(),col(\"order_placed_weekdate\").asc())"
   ]
  },
  {
   "cell_type": "code",
   "execution_count": 0,
   "metadata": {
    "application/vnd.databricks.v1+cell": {
     "cellMetadata": {
      "byteLimit": 2048000,
      "rowLimit": 10000
     },
     "inputWidgets": {},
     "nuid": "9ebd88dd-a134-4c2e-ade0-5fcadd698a2b",
     "showTitle": false,
     "title": ""
    }
   },
   "outputs": [],
   "source": [
    "## Step20:\n",
    "\n",
    "# Total Order Count\n",
    "# i. Total order count\n",
    "# ii. Total order count per city\n",
    "# iii. Total order count per state\n",
    "\n",
    "## Total order count\n",
    "grp_date_total_order_count = grp_weekdate.agg(F.count(\"id\").alias(\"total_order_count\")).orderBy(col(\"order_placed_weekdate\").asc())\n",
    "\n",
    "## Total order count per city\n",
    "grp_city_date_total_order_count = grp_city_weekdate.agg(F.count(\"id\").alias(\"total_order_count\")).orderBy(col(\"customer_city\").asc(),\n",
    "col(\"order_placed_weekdate\").asc())\n",
    "\n",
    "## Total order count per state\n",
    "grp_state_date_total_order_count = grp_state_weekdate.agg(F.count(\"id\").alias(\"total_order_count\")).orderBy(col(\"customer_state\").asc(),\n",
    "col(\"order_placed_weekdate\").asc())"
   ]
  },
  {
   "cell_type": "code",
   "execution_count": 0,
   "metadata": {
    "application/vnd.databricks.v1+cell": {
     "cellMetadata": {
      "byteLimit": 2048000,
      "rowLimit": 10000
     },
     "inputWidgets": {},
     "nuid": "c9da29e9-1852-4126-b6ec-6fc08cea8263",
     "showTitle": false,
     "title": ""
    }
   },
   "outputs": [],
   "source": [
    "#Step21: Average Freight charge\n",
    "\n",
    "## Total average freight charge.\n",
    "grp_date_avg_freight_charge = grp_weekdate.agg(F.avg(\"order_freight_charge\").alias(\"avg_freight_charge\")).orderBy(col(\"order_placed_weekdate\").asc())\n",
    "\n",
    "## Total order freight charge per city\n",
    "grp_city_date_vg_freight_charge = grp_city_weekdate.agg(F.avg(\"order_freight_charge\").alias(\"avg_freight_charge\")).orderBy(col(\"customer_city\").asc(),col(\"order_placed_weekdate\").asc())\n",
    "\n",
    "## Total order freight charge per state\n",
    "grp_state_date_vg_freight_charge = grp_state_weekdate.agg(F.avg(\"order_freight_charge\").alias(\"avg_freight_charge\")).orderBy(col(\"customer_state\").asc(),col(\"order_placed_weekdate\").asc())\n"
   ]
  },
  {
   "cell_type": "code",
   "execution_count": 0,
   "metadata": {
    "application/vnd.databricks.v1+cell": {
     "cellMetadata": {
      "byteLimit": 2048000,
      "rowLimit": 10000
     },
     "inputWidgets": {},
     "nuid": "55345761-d2d9-475a-ac56-23cab5e51543",
     "showTitle": false,
     "title": ""
    }
   },
   "outputs": [],
   "source": [
    "# Step22: Average Review score\n",
    "\n",
    "# Total average review charge.\n",
    "grp_date_avg_review_score = grp_weekdate.agg(F.avg(\"product_review_score\").alias(\"avg_review_score\")).orderBy(col(\"order_placed_weekdate\")\n",
    ".asc())\n",
    "\n",
    "## Total order average review per city\n",
    "grp_city_date_avg_review_score = grp_city_weekdate.agg(F.avg(\"product_review_score\").alias(\"avg_review_score\")).orderBy(col(\"customer_city\").asc(),col(\"order_placed_weekdate\").asc())\n",
    "\n",
    "## Total order average review per state\n",
    "grp_state_date_avg_review_score = grp_state_weekdate.agg(F.avg(\"product_review_score\").alias(\"avg_review_score\")).orderBy(col(\"customer_state\").asc(),col(\"order_placed_weekdate\").asc())"
   ]
  },
  {
   "cell_type": "code",
   "execution_count": 0,
   "metadata": {
    "application/vnd.databricks.v1+cell": {
     "cellMetadata": {
      "byteLimit": 2048000,
      "rowLimit": 10000
     },
     "inputWidgets": {},
     "nuid": "2d93df07-ab43-40f2-9de4-30a4cbcdc9dd",
     "showTitle": false,
     "title": ""
    }
   },
   "outputs": [],
   "source": [
    "# Step23: Average Approval Time\n",
    "\n",
    "grp_date_avg_approval_time = grp_weekdate.agg(F.avg(\"order_approval_time\").alias(\"avg_approval_time\")).orderBy(col(\"order_placed_weekdate\")\n",
    ".asc())\t\n",
    "\n",
    "## Average Approval Time per city\n",
    "grp_city_date_avg_approval_time = grp_city_weekdate.agg(F.avg(\"order_approval_time\").alias(\"avg_approval_time\")).orderBy(col(\"customer_city\").asc(),col(\"order_placed_weekdate\").asc())\n",
    "\n",
    "## Average Approval Time per state\n",
    "grp_state_date_avg_approval_time = grp_state_weekdate.agg(F.avg(\"order_approval_time\").alias(\"avg_approval_time\")).orderBy(col(\"customer_state\").asc(),col(\"order_placed_weekdate\").asc())"
   ]
  },
  {
   "cell_type": "code",
   "execution_count": 0,
   "metadata": {
    "application/vnd.databricks.v1+cell": {
     "cellMetadata": {
      "byteLimit": 2048000,
      "rowLimit": 10000
     },
     "inputWidgets": {},
     "nuid": "e290aace-64d2-4b17-8bc5-760fe3760e92",
     "showTitle": false,
     "title": ""
    }
   },
   "outputs": [],
   "source": [
    "# Step24: Average Delivery Time\n",
    "\n",
    "grp_date_avg_delivery_time = grp_weekdate.agg(F.avg(\"order_delivery_time\").alias(\"avg_delivery_time\")).orderBy(col(\"order_placed_weekdate\").asc())\n",
    "\n",
    "## Average Approval Time per city\n",
    "grp_city_date_avg_delivery_time = grp_city_weekdate.agg(F.avg(\"order_delivery_time\").alias(\"avg_delivery_time\")).orderBy(col(\"customer_city\").asc(),col(\"order_placed_weekdate\").asc())\n",
    "\n",
    "## Average Approval Time per state\n",
    "grp_state_date_avg_delivery_time = grp_state_weekdate.agg(F.avg(\"order_delivery_time\").alias(\"avg_delivery_time\")).orderBy(col(\"customer_state\").asc(),col(\"order_placed_weekdate\").asc())"
   ]
  },
  {
   "cell_type": "code",
   "execution_count": 0,
   "metadata": {
    "application/vnd.databricks.v1+cell": {
     "cellMetadata": {
      "byteLimit": 2048000,
      "rowLimit": 10000
     },
     "inputWidgets": {},
     "nuid": "1a922327-49a6-4d1e-bb98-dcc9020ef48d",
     "showTitle": false,
     "title": ""
    }
   },
   "outputs": [],
   "source": [
    "## ---------------------- INSIGHTS TO BE STORED ------------------\n",
    "# historical Weekly insights into 3 tables\n",
    "\n",
    "#i. Insights per period\n",
    "#ii. Insights per period per city\n",
    "#ii. Insights per period per state\n",
    "\n",
    "## Per period\n",
    "grp_date_insights = reduce(\n",
    "lambda x, y: x.join(y, on=[\"order_placed_weekdate\"], how=\"left\"),\n",
    "[\n",
    "grp_date_total_sales,\n",
    "grp_date_total_freight_charge,\n",
    "grp_date_total_order_count,\n",
    "grp_date_avg_freight_charge,\n",
    "grp_date_avg_review_score,\n",
    "grp_date_avg_approval_time,\n",
    "grp_date_avg_delivery_time,\n",
    "]\n",
    ")\n",
    "\n",
    "## Per city\n",
    "grp_city_date_insights = reduce(\n",
    "lambda x, y: x.join(y, on=[\"customer_city\", \"order_placed_weekdate\"], how=\"left\"),\n",
    "[\n",
    "grp_city_date_total_sales,\n",
    "grp_city_date_total_freight_charge,\n",
    "grp_city_date_total_order_count,\n",
    "grp_city_date_vg_freight_charge,\n",
    "grp_city_date_avg_review_score,\n",
    "grp_city_date_avg_approval_time,\n",
    "grp_city_date_avg_delivery_time,\n",
    "]\n",
    ")\n",
    "\n",
    "## Per State\n",
    "grp_state_date_insights = reduce(\n",
    "lambda x, y: x.join(y, on=[\"customer_state\", \"order_placed_weekdate\"], how=\"left\"),\n",
    "[\n",
    "grp_state_date_total_sales,\n",
    "grp_state_date_total_freight_charge,\n",
    "grp_state_date_total_order_count,\n",
    "grp_state_date_vg_freight_charge,\n",
    "grp_state_date_avg_review_score,\n",
    "grp_state_date_avg_approval_time,\n",
    "grp_state_date_avg_delivery_time,\n",
    "]\n",
    ")"
   ]
  },
  {
   "cell_type": "code",
   "execution_count": 0,
   "metadata": {
    "application/vnd.databricks.v1+cell": {
     "cellMetadata": {
      "byteLimit": 2048000,
      "rowLimit": 10000
     },
     "inputWidgets": {},
     "nuid": "9273aa5f-2ef2-4384-a5b6-bcf9c0cb88ff",
     "showTitle": false,
     "title": ""
    }
   },
   "outputs": [],
   "source": [
    "# Step27: Write the insights as a CSV file into the file system [DBFS]\n",
    "\n",
    "# write pyspark dataframe as csv file into file system (dbfs -> Databricks file system assocaited with every dbricks workspace.)\n",
    "grp_date_insights.write.csv(\"dbfs:/FileStore/shared_uploads/odl_user_1393753@simplilearnss.onmicrosoft.com/weeklygrpdateinsights\", mode=\"overwrite\", header=True)\n",
    "grp_city_date_insights.write.csv(\"dbfs:/FileStore/tables/weeklygrpcitydateinsights\", mode=\"overwrite\", header=True)\n",
    "grp_state_date_insights.write.csv(\"dbfs:/FileStore/tables/weeklygrpstatedateinsights\", mode=\"overwrite\", header=True)"
   ]
  },
  {
   "cell_type": "code",
   "execution_count": 0,
   "metadata": {
    "application/vnd.databricks.v1+cell": {
     "cellMetadata": {
      "byteLimit": 2048000,
      "rowLimit": 10000
     },
     "inputWidgets": {},
     "nuid": "214b1233-60ac-4c67-b0c6-6fcb00fcf421",
     "showTitle": false,
     "title": ""
    }
   },
   "outputs": [],
   "source": [
    "# Step 28 : ADLS Blob Object storage\n",
    "# write pyspark dataframe as csv file into storage account (Blob Storage Azure/AWS protocol)\n",
    "# Set the Azure storage account access key\n",
    "spark.conf.set(\n",
    "    \"fs.azure.account.key.retailanalytics.dfs.core.windows.net\",\n",
    "    \"<access-key>\"\n",
    ")\n",
    "\n",
    "grp_date_insights.write.csv(\n",
    "    \"abfss://staging-data@retailanalytics.dfs.core.windows.net/insights/weeklygrpdateinsights\",\n",
    "    mode=\"overwrite\", header=True\n",
    ")\n",
    "grp_city_date_insights.write.csv(\n",
    "    \"abfss://staging-data@retailanalytics.dfs.core.windows.net/insights/weeklygrpcitydateinsights\",\n",
    "    mode=\"overwrite\", header=True\n",
    ")\n",
    "grp_state_date_insights.write.csv(\n",
    "    \"abfss://staging-data@retailanalytics.dfs.core.windows.net/insights/weeklygrpstatedateinsights\",\n",
    "    mode=\"overwrite\", header=True\n",
    ")"
   ]
  },
  {
   "cell_type": "markdown",
   "metadata": {
    "application/vnd.databricks.v1+cell": {
     "cellMetadata": {},
     "inputWidgets": {},
     "nuid": "389222fc-d1e0-4ff0-a6fe-28cf80857d1b",
     "showTitle": false,
     "title": ""
    }
   },
   "source": [
    "###### Write to CosmoDB"
   ]
  },
  {
   "cell_type": "code",
   "execution_count": 0,
   "metadata": {
    "application/vnd.databricks.v1+cell": {
     "cellMetadata": {
      "byteLimit": 2048000,
      "rowLimit": 10000
     },
     "inputWidgets": {},
     "nuid": "5700b5b3-8e1b-4702-9475-c88ffed5c471",
     "showTitle": false,
     "title": ""
    }
   },
   "outputs": [],
   "source": [
    "from pyspark.sql.functions import col, expr\n",
    "\n",
    "# Assuming avg_approval_time is of type INTERVAL DAY TO SECOND, convert it to seconds\n",
    "grp_date_insights = grp_date_insights.withColumn(\n",
    "    \"avg_approval_seconds\", \n",
    "    expr(\"CAST(avg_approval_time AS LONG)\")\n",
    ")\n",
    "\n",
    "grp_date_insights = grp_date_insights.withColumn(\n",
    "    \"avg_delivery_seconds\", \n",
    "    expr(\"CAST(avg_delivery_time AS LONG)\")\n",
    ")\n"
   ]
  },
  {
   "cell_type": "code",
   "execution_count": 0,
   "metadata": {
    "application/vnd.databricks.v1+cell": {
     "cellMetadata": {
      "byteLimit": 2048000,
      "rowLimit": 10000
     },
     "inputWidgets": {},
     "nuid": "4b9ee7e2-2378-4e5c-b4aa-cc461e9bc6c1",
     "showTitle": false,
     "title": ""
    }
   },
   "outputs": [
    {
     "data": {
      "text/html": [
       "<style scoped>\n",
       "  .table-result-container {\n",
       "    max-height: 300px;\n",
       "    overflow: auto;\n",
       "  }\n",
       "  table, th, td {\n",
       "    border: 1px solid black;\n",
       "    border-collapse: collapse;\n",
       "  }\n",
       "  th, td {\n",
       "    padding: 5px;\n",
       "  }\n",
       "  th {\n",
       "    text-align: left;\n",
       "  }\n",
       "</style><div class='table-result-container'><table class='table-result'><thead style='background-color: white'><tr><th>order_placed_weekdate</th><th>total_sales</th><th>total_freight_charge</th><th>total_order_count</th><th>avg_freight_charge</th><th>avg_review_score</th><th>avg_approval_seconds</th><th>avg_delivery_seconds</th></tr></thead><tbody><tr><td>2018-05-28</td><td>149265.76000000027</td><td>23134.090000000004</td><td>1086</td><td>21.302108655616948</td><td>4.1178637200736645</td><td>33306</td><td>997092</td></tr><tr><td>2017-09-11</td><td>164760.99000000025</td><td>24325.099999999988</td><td>1141</td><td>21.319106047326898</td><td>4.0359333917616125</td><td>32288</td><td>1037870</td></tr><tr><td>2016-10-03</td><td>37213.51999999998</td><td>5206.98</td><td>238</td><td>21.878067226890753</td><td>3.9831932773109244</td><td>78559</td><td>1692365</td></tr><tr><td>2017-07-31</td><td>145720.54000000027</td><td>21092.090000000007</td><td>961</td><td>21.948064516129037</td><td>4.112382934443288</td><td>32921</td><td>960860</td></tr><tr><td>2017-10-23</td><td>169682.51000000013</td><td>20973.05</td><td>957</td><td>21.915412748171367</td><td>4.103448275862069</td><td>33149</td><td>1004751</td></tr><tr><td>2017-08-14</td><td>141926.73000000027</td><td>21662.48000000001</td><td>1014</td><td>21.36339250493098</td><td>4.059171597633136</td><td>34998</td><td>969588</td></tr><tr><td>2017-12-25</td><td>122559.73000000021</td><td>19725.129999999997</td><td>860</td><td>22.9361976744186</td><td>4.0162790697674415</td><td>37170</td><td>1227703</td></tr><tr><td>2018-02-26</td><td>281564.41999999975</td><td>40025.82000000004</td><td>1856</td><td>21.56563577586209</td><td>4.056573275862069</td><td>32920</td><td>1647681</td></tr><tr><td>2017-01-30</td><td>69188.16000000006</td><td>9610.28</td><td>435</td><td>22.092597701149423</td><td>4.13103448275862</td><td>33706</td><td>1083125</td></tr><tr><td>2018-04-16</td><td>262123.9699999998</td><td>36301.550000000025</td><td>1646</td><td>22.05440461725397</td><td>4.042527339003645</td><td>102838</td><td>992814</td></tr><tr><td>2018-01-08</td><td>261272.2499999998</td><td>38849.65000000006</td><td>1748</td><td>22.22520022883299</td><td>4.060068649885584</td><td>38453</td><td>1198455</td></tr><tr><td>2017-11-06</td><td>172181.28000000026</td><td>26786.300000000032</td><td>1174</td><td>22.816269165247043</td><td>4.0119250425894375</td><td>37477</td><td>1116395</td></tr><tr><td>2017-10-09</td><td>161781.13000000018</td><td>22447.239999999998</td><td>1034</td><td>21.709129593810445</td><td>4.053191489361702</td><td>38576</td><td>1042662</td></tr><tr><td>2017-04-03</td><td>81820.49000000008</td><td>11148.98</td><td>567</td><td>19.66310405643739</td><td>4.08994708994709</td><td>31888</td><td>1207964</td></tr><tr><td>2017-12-04</td><td>248653.27</td><td>34978.68000000003</td><td>1637</td><td>21.367550397067824</td><td>4.093463653023824</td><td>42079</td><td>1391289</td></tr><tr><td>2017-07-03</td><td>137330.64000000025</td><td>17757.980000000003</td><td>796</td><td>22.309020100502515</td><td>4.097989949748744</td><td>37276</td><td>1022046</td></tr><tr><td>2018-05-14</td><td>279511.6299999997</td><td>39756.990000000034</td><td>1819</td><td>21.856509070918104</td><td>4.08741066520066</td><td>30142</td><td>1053771</td></tr><tr><td>2018-04-02</td><td>247802.05999999982</td><td>34901.47000000002</td><td>1565</td><td>22.3012587859425</td><td>4.067731629392971</td><td>32943</td><td>1031988</td></tr><tr><td>2017-03-13</td><td>82641.06000000014</td><td>12178.699999999995</td><td>593</td><td>20.53743676222596</td><td>4.053962900505902</td><td>2014</td><td>1195373</td></tr><tr><td>2018-02-12</td><td>231246.19999999987</td><td>34950.51000000003</td><td>1600</td><td>21.844068750000023</td><td>4.093125</td><td>35310</td><td>1389538</td></tr><tr><td>2017-08-21</td><td>136570.09000000017</td><td>19282.57999999999</td><td>867</td><td>22.240576701268733</td><td>4.047289504036909</td><td>36286</td><td>952749</td></tr><tr><td>2018-07-16</td><td>253087.35999999987</td><td>35373.56000000002</td><td>1653</td><td>21.399612825166376</td><td>4.087719298245614</td><td>41977</td><td>780214</td></tr><tr><td>2018-01-29</td><td>233890.86999999997</td><td>34044.06000000001</td><td>1569</td><td>21.69793499043978</td><td>4.080943275971957</td><td>38066</td><td>1348511</td></tr><tr><td>2018-03-19</td><td>265470.44999999995</td><td>37432.31</td><td>1681</td><td>22.26788221296847</td><td>4.01249256395003</td><td>28886</td><td>1201194</td></tr><tr><td>2017-06-19</td><td>111683.24000000014</td><td>14006.270000000002</td><td>638</td><td>21.9534012539185</td><td>4.0423197492163006</td><td>37824</td><td>979555</td></tr><tr><td>2017-07-10</td><td>149573.19000000024</td><td>19751.469999999994</td><td>930</td><td>21.23813978494623</td><td>4.01505376344086</td><td>34409</td><td>1062340</td></tr><tr><td>2016-09-12</td><td>90.0</td><td>26.89</td><td>1</td><td>26.89</td><td>5.0</td><td>0</td><td>4735860</td></tr><tr><td>2017-08-07</td><td>169880.05000000016</td><td>20089.9</td><td>915</td><td>21.95617486338798</td><td>4.025136612021858</td><td>33274</td><td>960172</td></tr><tr><td>2017-09-18</td><td>144170.96000000025</td><td>20602.279999999995</td><td>965</td><td>21.349512953367874</td><td>4.0093264248704665</td><td>34232</td><td>1027816</td></tr><tr><td>2018-02-05</td><td>228331.27999999985</td><td>32644.570000000007</td><td>1550</td><td>21.061012903225812</td><td>4.06258064516129</td><td>37096</td><td>1430844</td></tr><tr><td>2017-10-16</td><td>179439.04000000012</td><td>23999.570000000007</td><td>1110</td><td>21.621234234234237</td><td>4.071171171171171</td><td>30461</td><td>1000422</td></tr><tr><td>2018-07-30</td><td>303370.0299999998</td><td>43815.79000000002</td><td>2014</td><td>21.75560575968224</td><td>3.993545183714002</td><td>32905</td><td>750206</td></tr><tr><td>2017-03-20</td><td>91424.33000000015</td><td>13669.720000000001</td><td>625</td><td>21.871552</td><td>4.0896</td><td>32086</td><td>1066777</td></tr><tr><td>2018-04-09</td><td>232492.1800000001</td><td>31582.040000000023</td><td>1529</td><td>20.65535644211905</td><td>4.014388489208633</td><td>37065</td><td>998858</td></tr><tr><td>2017-11-13</td><td>197370.8500000002</td><td>27392.510000000006</td><td>1267</td><td>21.619976322020523</td><td>4.014206787687451</td><td>38597</td><td>1182997</td></tr><tr><td>2017-02-06</td><td>76319.92000000007</td><td>11231.93</td><td>517</td><td>21.72520309477756</td><td>3.967117988394584</td><td>32535</td><td>1054364</td></tr><tr><td>2017-01-23</td><td>46745.08999999998</td><td>7432.630000000001</td><td>332</td><td>22.38743975903615</td><td>4.006024096385542</td><td>39402</td><td>1112188</td></tr><tr><td>2017-03-06</td><td>88647.35000000015</td><td>12030.429999999997</td><td>551</td><td>21.833811252268596</td><td>4.045372050816697</td><td>9619</td><td>1115568</td></tr><tr><td>2017-10-30</td><td>152853.37000000017</td><td>20656.09</td><td>906</td><td>22.799216335540837</td><td>4.003311258278146</td><td>38584</td><td>1049956</td></tr><tr><td>2018-06-18</td><td>231093.78</td><td>31938.280000000024</td><td>1450</td><td>22.026400000000017</td><td>4.052413793103448</td><td>31102</td><td>732711</td></tr><tr><td>2018-07-09</td><td>130953.76000000029</td><td>20416.320000000014</td><td>976</td><td>20.918360655737718</td><td>4.010245901639344</td><td>32696</td><td>972014</td></tr><tr><td>2018-05-07</td><td>301251.5099999995</td><td>41465.45000000004</td><td>1954</td><td>21.220803480040964</td><td>4.051177072671443</td><td>29492</td><td>917213</td></tr><tr><td>2017-09-25</td><td>157947.44000000018</td><td>20538.639999999996</td><td>929</td><td>22.108331539289555</td><td>3.9892357373519913</td><td>34436</td><td>1008341</td></tr><tr><td>2018-03-05</td><td>251522.93</td><td>35495.70000000002</td><td>1616</td><td>21.96516089108912</td><td>4.047648514851486</td><td>29064</td><td>1565417</td></tr><tr><td>2017-05-22</td><td>107870.78000000017</td><td>16660.02</td><td>761</td><td>21.892273324572926</td><td>4.078843626806833</td><td>29877</td><td>906927</td></tr><tr><td>2017-01-16</td><td>29198.699999999983</td><td>4471.63</td><td>188</td><td>23.78526595744681</td><td>3.9574468085106385</td><td>41946</td><td>1012929</td></tr><tr><td>2017-08-28</td><td>139889.2400000002</td><td>21084.94000000001</td><td>981</td><td>21.493312945973507</td><td>4.034658511722732</td><td>48419</td><td>967983</td></tr><tr><td>2018-03-26</td><td>211346.41999999995</td><td>31428.320000000018</td><td>1441</td><td>21.810076335877877</td><td>4.047883414295628</td><td>33621</td><td>1199942</td></tr><tr><td>2017-12-18</td><td>149074.43000000028</td><td>20520.099999999995</td><td>956</td><td>21.464539748953975</td><td>4.044979079497908</td><td>36589</td><td>1304736</td></tr><tr><td>2018-06-04</td><td>232483.95000000004</td><td>31410.160000000025</td><td>1431</td><td>21.949797344514344</td><td>4.054507337526205</td><td>29242</td><td>879918</td></tr><tr><td>2017-02-27</td><td>68626.77000000009</td><td>9935.949999999999</td><td>465</td><td>21.367634408602154</td><td>4.049462365591398</td><td>35985</td><td>1101221</td></tr><tr><td>2017-03-27</td><td>76760.9500000001</td><td>11942.670000000002</td><td>546</td><td>21.87302197802198</td><td>4.135531135531136</td><td>41174</td><td>1141585</td></tr><tr><td>2018-08-13</td><td>261205.13999999978</td><td>40168.98000000006</td><td>1847</td><td>21.748229561451033</td><td>4.038982133188955</td><td>37384</td><td>659225</td></tr><tr><td>2017-09-04</td><td>139278.43000000023</td><td>19332.810000000005</td><td>886</td><td>21.820327313769756</td><td>4.003386004514673</td><td>39766</td><td>1032593</td></tr><tr><td>2018-08-06</td><td>343641.7399999995</td><td>42024.89000000002</td><td>1942</td><td>21.640005149330598</td><td>4.061791967044284</td><td>29395</td><td>734331</td></tr><tr><td>2017-05-08</td><td>127852.91000000015</td><td>16919.57</td><td>763</td><td>22.175058977719527</td><td>4.022280471821756</td><td>32616</td><td>955406</td></tr><tr><td>2017-06-26</td><td>117177.65000000018</td><td>15634.630000000005</td><td>714</td><td>21.89724089635855</td><td>4.043417366946779</td><td>31511</td><td>994968</td></tr><tr><td>2017-01-09</td><td>10604.49</td><td>1671.8100000000004</td><td>73</td><td>22.90150684931507</td><td>4.1506849315068495</td><td>35896</td><td>1274615</td></tr><tr><td>2018-01-15</td><td>272920.86</td><td>36726.260000000046</td><td>1720</td><td>21.352476744186074</td><td>4.0453488372093025</td><td>44318</td><td>1199894</td></tr><tr><td>2018-08-20</td><td>168202.03000000014</td><td>23574.380000000012</td><td>1055</td><td>22.345383886255938</td><td>4.004739336492891</td><td>22293</td><td>473425</td></tr><tr><td>2016-10-10</td><td>3930.1900000000005</td><td>720.6600000000001</td><td>34</td><td>21.19588235294118</td><td>4.294117647058823</td><td>47846</td><td>1661479</td></tr><tr><td>2018-07-02</td><td>196882.97000000012</td><td>26151.869999999995</td><td>1184</td><td>22.087728040540533</td><td>4.061655405405405</td><td>80156</td><td>738894</td></tr><tr><td>2018-01-22</td><td>242229.6699999999</td><td>33748.66000000003</td><td>1556</td><td>21.689370179948607</td><td>4.080334190231363</td><td>27816</td><td>1226492</td></tr><tr><td>2017-12-11</td><td>217073.53999999998</td><td>31295.46000000001</td><td>1372</td><td>22.810102040816332</td><td>4.068513119533527</td><td>35254</td><td>1308701</td></tr><tr><td>2017-07-17</td><td>138107.47000000023</td><td>20674.13</td><td>941</td><td>21.9703825717322</td><td>4.057385759829968</td><td>33252</td><td>977952</td></tr><tr><td>2017-06-05</td><td>138680.85000000024</td><td>18071.370000000006</td><td>819</td><td>22.06516483516484</td><td>4.09035409035409</td><td>32208</td><td>1043460</td></tr><tr><td>2017-04-24</td><td>93163.04000000015</td><td>13382.710000000006</td><td>648</td><td>20.652330246913586</td><td>3.9583333333333335</td><td>62386</td><td>1316391</td></tr><tr><td>2018-04-30</td><td>240060.9899999998</td><td>36823.740000000034</td><td>1741</td><td>21.150913268236664</td><td>4.128087306145893</td><td>40511</td><td>923668</td></tr><tr><td>2018-07-23</td><td>255257.9200000001</td><td>36163.24</td><td>1620</td><td>22.322987654320986</td><td>4.0092592592592595</td><td>45245</td><td>719417</td></tr><tr><td>2017-07-24</td><td>127289.19000000024</td><td>19766.520000000008</td><td>896</td><td>22.06084821428572</td><td>4.083705357142857</td><td>34936</td><td>968513</td></tr><tr><td>2017-11-20</td><td>444022.0699999974</td><td>62191.42999999996</td><td>2927</td><td>21.247499145883143</td><td>4.041339255210112</td><td>39050</td><td>1440751</td></tr><tr><td>2018-04-23</td><td>248043.69999999998</td><td>35453.91999999999</td><td>1656</td><td>21.409371980676326</td><td>4.063405797101449</td><td>42319</td><td>969192</td></tr><tr><td>2017-01-02</td><td>6131.4</td><td>898.2199999999998</td><td>44</td><td>20.414090909090906</td><td>3.9318181818181817</td><td>101256</td><td>995363</td></tr><tr><td>2017-02-20</td><td>52886.259999999995</td><td>7673.950000000002</td><td>350</td><td>21.92557142857143</td><td>4.208571428571428</td><td>42295</td><td>1271830</td></tr><tr><td>2018-02-19</td><td>298793.0799999996</td><td>39918.03000000002</td><td>1723</td><td>23.167748113755092</td><td>4.001741149158445</td><td>33189</td><td>1514985</td></tr><tr><td>2017-02-13</td><td>53184.91</td><td>8143.8399999999965</td><td>370</td><td>22.01037837837837</td><td>3.8405405405405406</td><td>27202</td><td>1144055</td></tr><tr><td>2018-06-25</td><td>215609.49000000022</td><td>30241.74000000002</td><td>1388</td><td>21.787997118155634</td><td>4.034582132564841</td><td>39552</td><td>719547</td></tr><tr><td>2017-05-29</td><td>116764.68000000023</td><td>17264.170000000006</td><td>806</td><td>21.41956575682383</td><td>4.050868486352357</td><td>32821</td><td>1005901</td></tr><tr><td>2018-01-01</td><td>194561.34000000014</td><td>29319.90000000001</td><td>1351</td><td>21.702368615840125</td><td>4.067357512953368</td><td>36892</td><td>1187254</td></tr><tr><td>2017-06-12</td><td>151748.5500000001</td><td>15613.079999999994</td><td>733</td><td>21.30024556616643</td><td>4.1036834924965895</td><td>34528</td><td>1102292</td></tr><tr><td>2018-06-11</td><td>217150.79000000004</td><td>32469.730000000032</td><td>1512</td><td>21.474689153439176</td><td>4.003306878306878</td><td>28719</td><td>785136</td></tr><tr><td>2017-10-02</td><td>143331.27000000025</td><td>20555.94</td><td>978</td><td>21.018343558282208</td><td>4.07361963190184</td><td>33093</td><td>1053990</td></tr><tr><td>2018-08-27</td><td>16814.479999999996</td><td>2581.8600000000006</td><td>117</td><td>22.06717948717949</td><td>3.8119658119658117</td><td>6760</td><td>189860</td></tr><tr><td>2017-04-17</td><td>72778.72000000009</td><td>11374.190000000002</td><td>551</td><td>20.64281306715064</td><td>4.001814882032668</td><td>54245</td><td>1364150</td></tr><tr><td>2017-04-10</td><td>57308.94000000002</td><td>9153.109999999999</td><td>423</td><td>21.638557919621746</td><td>4.125295508274232</td><td>31480</td><td>1306850</td></tr><tr><td>2018-03-12</td><td>247770.46000000002</td><td>34204.12000000002</td><td>1550</td><td>22.067174193548404</td><td>4.067096774193549</td><td>31439</td><td>1449376</td></tr><tr><td>2017-05-01</td><td>103181.07000000014</td><td>16117.06</td><td>755</td><td>21.34709933774834</td><td>4.025165562913907</td><td>49289</td><td>1173357</td></tr><tr><td>2017-05-15</td><td>145794.74000000025</td><td>20886.160000000003</td><td>922</td><td>22.653101952277662</td><td>3.9642082429501087</td><td>35116</td><td>908215</td></tr><tr><td>2018-05-21</td><td>139279.85000000027</td><td>20262.339999999997</td><td>945</td><td>21.441629629629627</td><td>4.052910052910053</td><td>31817</td><td>1074133</td></tr><tr><td>2017-11-27</td><td>303547.8199999994</td><td>44365.02000000002</td><td>2058</td><td>21.557346938775517</td><td>4.098639455782313</td><td>40882</td><td>1409079</td></tr><tr><td>2016-12-19</td><td>82.5</td><td>44.16</td><td>1</td><td>44.16</td><td>5.0</td><td>900</td><td>405480</td></tr></tbody></table></div>"
      ]
     },
     "metadata": {
      "application/vnd.databricks.v1+output": {
       "addedWidgets": {},
       "aggData": [],
       "aggError": "",
       "aggOverflow": false,
       "aggSchema": [],
       "aggSeriesLimitReached": false,
       "aggType": "",
       "arguments": {},
       "columnCustomDisplayInfos": {},
       "data": [
        [
         "2018-05-28",
         149265.76000000027,
         23134.090000000004,
         1086,
         21.302108655616948,
         4.1178637200736645,
         33306,
         997092
        ],
        [
         "2017-09-11",
         164760.99000000025,
         24325.099999999988,
         1141,
         21.319106047326898,
         4.0359333917616125,
         32288,
         1037870
        ],
        [
         "2016-10-03",
         37213.51999999998,
         5206.98,
         238,
         21.878067226890753,
         3.9831932773109244,
         78559,
         1692365
        ],
        [
         "2017-07-31",
         145720.54000000027,
         21092.090000000007,
         961,
         21.948064516129037,
         4.112382934443288,
         32921,
         960860
        ],
        [
         "2017-10-23",
         169682.51000000013,
         20973.05,
         957,
         21.915412748171367,
         4.103448275862069,
         33149,
         1004751
        ],
        [
         "2017-08-14",
         141926.73000000027,
         21662.48000000001,
         1014,
         21.36339250493098,
         4.059171597633136,
         34998,
         969588
        ],
        [
         "2017-12-25",
         122559.73000000021,
         19725.129999999997,
         860,
         22.9361976744186,
         4.0162790697674415,
         37170,
         1227703
        ],
        [
         "2018-02-26",
         281564.41999999975,
         40025.82000000004,
         1856,
         21.56563577586209,
         4.056573275862069,
         32920,
         1647681
        ],
        [
         "2017-01-30",
         69188.16000000006,
         9610.28,
         435,
         22.092597701149423,
         4.13103448275862,
         33706,
         1083125
        ],
        [
         "2018-04-16",
         262123.9699999998,
         36301.550000000025,
         1646,
         22.05440461725397,
         4.042527339003645,
         102838,
         992814
        ],
        [
         "2018-01-08",
         261272.2499999998,
         38849.65000000006,
         1748,
         22.22520022883299,
         4.060068649885584,
         38453,
         1198455
        ],
        [
         "2017-11-06",
         172181.28000000026,
         26786.300000000032,
         1174,
         22.816269165247043,
         4.0119250425894375,
         37477,
         1116395
        ],
        [
         "2017-10-09",
         161781.13000000018,
         22447.239999999998,
         1034,
         21.709129593810445,
         4.053191489361702,
         38576,
         1042662
        ],
        [
         "2017-04-03",
         81820.49000000008,
         11148.98,
         567,
         19.66310405643739,
         4.08994708994709,
         31888,
         1207964
        ],
        [
         "2017-12-04",
         248653.27,
         34978.68000000003,
         1637,
         21.367550397067824,
         4.093463653023824,
         42079,
         1391289
        ],
        [
         "2017-07-03",
         137330.64000000025,
         17757.980000000003,
         796,
         22.309020100502515,
         4.097989949748744,
         37276,
         1022046
        ],
        [
         "2018-05-14",
         279511.6299999997,
         39756.990000000034,
         1819,
         21.856509070918104,
         4.08741066520066,
         30142,
         1053771
        ],
        [
         "2018-04-02",
         247802.05999999982,
         34901.47000000002,
         1565,
         22.3012587859425,
         4.067731629392971,
         32943,
         1031988
        ],
        [
         "2017-03-13",
         82641.06000000014,
         12178.699999999995,
         593,
         20.53743676222596,
         4.053962900505902,
         2014,
         1195373
        ],
        [
         "2018-02-12",
         231246.19999999987,
         34950.51000000003,
         1600,
         21.844068750000023,
         4.093125,
         35310,
         1389538
        ],
        [
         "2017-08-21",
         136570.09000000017,
         19282.57999999999,
         867,
         22.240576701268733,
         4.047289504036909,
         36286,
         952749
        ],
        [
         "2018-07-16",
         253087.35999999987,
         35373.56000000002,
         1653,
         21.399612825166376,
         4.087719298245614,
         41977,
         780214
        ],
        [
         "2018-01-29",
         233890.86999999997,
         34044.06000000001,
         1569,
         21.69793499043978,
         4.080943275971957,
         38066,
         1348511
        ],
        [
         "2018-03-19",
         265470.44999999995,
         37432.31,
         1681,
         22.26788221296847,
         4.01249256395003,
         28886,
         1201194
        ],
        [
         "2017-06-19",
         111683.24000000014,
         14006.270000000002,
         638,
         21.9534012539185,
         4.0423197492163006,
         37824,
         979555
        ],
        [
         "2017-07-10",
         149573.19000000024,
         19751.469999999994,
         930,
         21.23813978494623,
         4.01505376344086,
         34409,
         1062340
        ],
        [
         "2016-09-12",
         90,
         26.89,
         1,
         26.89,
         5,
         0,
         4735860
        ],
        [
         "2017-08-07",
         169880.05000000016,
         20089.9,
         915,
         21.95617486338798,
         4.025136612021858,
         33274,
         960172
        ],
        [
         "2017-09-18",
         144170.96000000025,
         20602.279999999995,
         965,
         21.349512953367874,
         4.0093264248704665,
         34232,
         1027816
        ],
        [
         "2018-02-05",
         228331.27999999985,
         32644.570000000007,
         1550,
         21.061012903225812,
         4.06258064516129,
         37096,
         1430844
        ],
        [
         "2017-10-16",
         179439.04000000012,
         23999.570000000007,
         1110,
         21.621234234234237,
         4.071171171171171,
         30461,
         1000422
        ],
        [
         "2018-07-30",
         303370.0299999998,
         43815.79000000002,
         2014,
         21.75560575968224,
         3.993545183714002,
         32905,
         750206
        ],
        [
         "2017-03-20",
         91424.33000000015,
         13669.720000000001,
         625,
         21.871552,
         4.0896,
         32086,
         1066777
        ],
        [
         "2018-04-09",
         232492.1800000001,
         31582.040000000023,
         1529,
         20.65535644211905,
         4.014388489208633,
         37065,
         998858
        ],
        [
         "2017-11-13",
         197370.8500000002,
         27392.510000000006,
         1267,
         21.619976322020523,
         4.014206787687451,
         38597,
         1182997
        ],
        [
         "2017-02-06",
         76319.92000000007,
         11231.93,
         517,
         21.72520309477756,
         3.967117988394584,
         32535,
         1054364
        ],
        [
         "2017-01-23",
         46745.08999999998,
         7432.630000000001,
         332,
         22.38743975903615,
         4.006024096385542,
         39402,
         1112188
        ],
        [
         "2017-03-06",
         88647.35000000015,
         12030.429999999997,
         551,
         21.833811252268596,
         4.045372050816697,
         9619,
         1115568
        ],
        [
         "2017-10-30",
         152853.37000000017,
         20656.09,
         906,
         22.799216335540837,
         4.003311258278146,
         38584,
         1049956
        ],
        [
         "2018-06-18",
         231093.78,
         31938.280000000024,
         1450,
         22.026400000000017,
         4.052413793103448,
         31102,
         732711
        ],
        [
         "2018-07-09",
         130953.76000000029,
         20416.320000000014,
         976,
         20.918360655737718,
         4.010245901639344,
         32696,
         972014
        ],
        [
         "2018-05-07",
         301251.5099999995,
         41465.45000000004,
         1954,
         21.220803480040964,
         4.051177072671443,
         29492,
         917213
        ],
        [
         "2017-09-25",
         157947.44000000018,
         20538.639999999996,
         929,
         22.108331539289555,
         3.9892357373519913,
         34436,
         1008341
        ],
        [
         "2018-03-05",
         251522.93,
         35495.70000000002,
         1616,
         21.96516089108912,
         4.047648514851486,
         29064,
         1565417
        ],
        [
         "2017-05-22",
         107870.78000000017,
         16660.02,
         761,
         21.892273324572926,
         4.078843626806833,
         29877,
         906927
        ],
        [
         "2017-01-16",
         29198.699999999983,
         4471.63,
         188,
         23.78526595744681,
         3.9574468085106385,
         41946,
         1012929
        ],
        [
         "2017-08-28",
         139889.2400000002,
         21084.94000000001,
         981,
         21.493312945973507,
         4.034658511722732,
         48419,
         967983
        ],
        [
         "2018-03-26",
         211346.41999999995,
         31428.320000000018,
         1441,
         21.810076335877877,
         4.047883414295628,
         33621,
         1199942
        ],
        [
         "2017-12-18",
         149074.43000000028,
         20520.099999999995,
         956,
         21.464539748953975,
         4.044979079497908,
         36589,
         1304736
        ],
        [
         "2018-06-04",
         232483.95000000004,
         31410.160000000025,
         1431,
         21.949797344514344,
         4.054507337526205,
         29242,
         879918
        ],
        [
         "2017-02-27",
         68626.77000000009,
         9935.949999999999,
         465,
         21.367634408602154,
         4.049462365591398,
         35985,
         1101221
        ],
        [
         "2017-03-27",
         76760.9500000001,
         11942.670000000002,
         546,
         21.87302197802198,
         4.135531135531136,
         41174,
         1141585
        ],
        [
         "2018-08-13",
         261205.13999999978,
         40168.98000000006,
         1847,
         21.748229561451033,
         4.038982133188955,
         37384,
         659225
        ],
        [
         "2017-09-04",
         139278.43000000023,
         19332.810000000005,
         886,
         21.820327313769756,
         4.003386004514673,
         39766,
         1032593
        ],
        [
         "2018-08-06",
         343641.7399999995,
         42024.89000000002,
         1942,
         21.640005149330598,
         4.061791967044284,
         29395,
         734331
        ],
        [
         "2017-05-08",
         127852.91000000015,
         16919.57,
         763,
         22.175058977719527,
         4.022280471821756,
         32616,
         955406
        ],
        [
         "2017-06-26",
         117177.65000000018,
         15634.630000000005,
         714,
         21.89724089635855,
         4.043417366946779,
         31511,
         994968
        ],
        [
         "2017-01-09",
         10604.49,
         1671.8100000000004,
         73,
         22.90150684931507,
         4.1506849315068495,
         35896,
         1274615
        ],
        [
         "2018-01-15",
         272920.86,
         36726.260000000046,
         1720,
         21.352476744186074,
         4.0453488372093025,
         44318,
         1199894
        ],
        [
         "2018-08-20",
         168202.03000000014,
         23574.380000000012,
         1055,
         22.345383886255938,
         4.004739336492891,
         22293,
         473425
        ],
        [
         "2016-10-10",
         3930.1900000000005,
         720.6600000000001,
         34,
         21.19588235294118,
         4.294117647058823,
         47846,
         1661479
        ],
        [
         "2018-07-02",
         196882.97000000012,
         26151.869999999995,
         1184,
         22.087728040540533,
         4.061655405405405,
         80156,
         738894
        ],
        [
         "2018-01-22",
         242229.6699999999,
         33748.66000000003,
         1556,
         21.689370179948607,
         4.080334190231363,
         27816,
         1226492
        ],
        [
         "2017-12-11",
         217073.53999999998,
         31295.46000000001,
         1372,
         22.810102040816332,
         4.068513119533527,
         35254,
         1308701
        ],
        [
         "2017-07-17",
         138107.47000000023,
         20674.13,
         941,
         21.9703825717322,
         4.057385759829968,
         33252,
         977952
        ],
        [
         "2017-06-05",
         138680.85000000024,
         18071.370000000006,
         819,
         22.06516483516484,
         4.09035409035409,
         32208,
         1043460
        ],
        [
         "2017-04-24",
         93163.04000000015,
         13382.710000000006,
         648,
         20.652330246913586,
         3.9583333333333335,
         62386,
         1316391
        ],
        [
         "2018-04-30",
         240060.9899999998,
         36823.740000000034,
         1741,
         21.150913268236664,
         4.128087306145893,
         40511,
         923668
        ],
        [
         "2018-07-23",
         255257.9200000001,
         36163.24,
         1620,
         22.322987654320986,
         4.0092592592592595,
         45245,
         719417
        ],
        [
         "2017-07-24",
         127289.19000000024,
         19766.520000000008,
         896,
         22.06084821428572,
         4.083705357142857,
         34936,
         968513
        ],
        [
         "2017-11-20",
         444022.0699999974,
         62191.42999999996,
         2927,
         21.247499145883143,
         4.041339255210112,
         39050,
         1440751
        ],
        [
         "2018-04-23",
         248043.69999999998,
         35453.91999999999,
         1656,
         21.409371980676326,
         4.063405797101449,
         42319,
         969192
        ],
        [
         "2017-01-02",
         6131.4,
         898.2199999999998,
         44,
         20.414090909090906,
         3.9318181818181817,
         101256,
         995363
        ],
        [
         "2017-02-20",
         52886.259999999995,
         7673.950000000002,
         350,
         21.92557142857143,
         4.208571428571428,
         42295,
         1271830
        ],
        [
         "2018-02-19",
         298793.0799999996,
         39918.03000000002,
         1723,
         23.167748113755092,
         4.001741149158445,
         33189,
         1514985
        ],
        [
         "2017-02-13",
         53184.91,
         8143.8399999999965,
         370,
         22.01037837837837,
         3.8405405405405406,
         27202,
         1144055
        ],
        [
         "2018-06-25",
         215609.49000000022,
         30241.74000000002,
         1388,
         21.787997118155634,
         4.034582132564841,
         39552,
         719547
        ],
        [
         "2017-05-29",
         116764.68000000023,
         17264.170000000006,
         806,
         21.41956575682383,
         4.050868486352357,
         32821,
         1005901
        ],
        [
         "2018-01-01",
         194561.34000000014,
         29319.90000000001,
         1351,
         21.702368615840125,
         4.067357512953368,
         36892,
         1187254
        ],
        [
         "2017-06-12",
         151748.5500000001,
         15613.079999999994,
         733,
         21.30024556616643,
         4.1036834924965895,
         34528,
         1102292
        ],
        [
         "2018-06-11",
         217150.79000000004,
         32469.730000000032,
         1512,
         21.474689153439176,
         4.003306878306878,
         28719,
         785136
        ],
        [
         "2017-10-02",
         143331.27000000025,
         20555.94,
         978,
         21.018343558282208,
         4.07361963190184,
         33093,
         1053990
        ],
        [
         "2018-08-27",
         16814.479999999996,
         2581.8600000000006,
         117,
         22.06717948717949,
         3.8119658119658117,
         6760,
         189860
        ],
        [
         "2017-04-17",
         72778.72000000009,
         11374.190000000002,
         551,
         20.64281306715064,
         4.001814882032668,
         54245,
         1364150
        ],
        [
         "2017-04-10",
         57308.94000000002,
         9153.109999999999,
         423,
         21.638557919621746,
         4.125295508274232,
         31480,
         1306850
        ],
        [
         "2018-03-12",
         247770.46000000002,
         34204.12000000002,
         1550,
         22.067174193548404,
         4.067096774193549,
         31439,
         1449376
        ],
        [
         "2017-05-01",
         103181.07000000014,
         16117.06,
         755,
         21.34709933774834,
         4.025165562913907,
         49289,
         1173357
        ],
        [
         "2017-05-15",
         145794.74000000025,
         20886.160000000003,
         922,
         22.653101952277662,
         3.9642082429501087,
         35116,
         908215
        ],
        [
         "2018-05-21",
         139279.85000000027,
         20262.339999999997,
         945,
         21.441629629629627,
         4.052910052910053,
         31817,
         1074133
        ],
        [
         "2017-11-27",
         303547.8199999994,
         44365.02000000002,
         2058,
         21.557346938775517,
         4.098639455782313,
         40882,
         1409079
        ],
        [
         "2016-12-19",
         82.5,
         44.16,
         1,
         44.16,
         5,
         900,
         405480
        ]
       ],
       "datasetInfos": [],
       "dbfsResultPath": null,
       "isJsonSchema": true,
       "metadata": {},
       "overflow": false,
       "plotOptions": {
        "customPlotOptions": {},
        "displayType": "table",
        "pivotAggregation": null,
        "pivotColumns": null,
        "xColumns": null,
        "yColumns": null
       },
       "removedWidgets": [],
       "schema": [
        {
         "metadata": "{}",
         "name": "order_placed_weekdate",
         "type": "\"date\""
        },
        {
         "metadata": "{}",
         "name": "total_sales",
         "type": "\"double\""
        },
        {
         "metadata": "{}",
         "name": "total_freight_charge",
         "type": "\"double\""
        },
        {
         "metadata": "{}",
         "name": "total_order_count",
         "type": "\"long\""
        },
        {
         "metadata": "{}",
         "name": "avg_freight_charge",
         "type": "\"double\""
        },
        {
         "metadata": "{}",
         "name": "avg_review_score",
         "type": "\"double\""
        },
        {
         "metadata": "{}",
         "name": "avg_approval_seconds",
         "type": "\"long\""
        },
        {
         "metadata": "{}",
         "name": "avg_delivery_seconds",
         "type": "\"long\""
        }
       ],
       "type": "table"
      }
     },
     "output_type": "display_data"
    }
   ],
   "source": [
    "# Drop unwanted columns\n",
    "grp_date_insights = grp_date_insights.drop(\"avg_approval_time\", \"avg_delivery_time\",\"extracted_seconds\")\n",
    "display(grp_date_insights)"
   ]
  },
  {
   "cell_type": "code",
   "execution_count": 0,
   "metadata": {
    "application/vnd.databricks.v1+cell": {
     "cellMetadata": {
      "byteLimit": 2048000,
      "rowLimit": 10000
     },
     "inputWidgets": {},
     "nuid": "f90c8b0b-0ef2-4298-9c50-c35389eb3388",
     "showTitle": false,
     "title": ""
    }
   },
   "outputs": [],
   "source": [
    "## Step28: Write the insights to NoSQL\n",
    "\n",
    "# template\n",
    "\"\"\"\n",
    "config = {\n",
    "\"spark.cosmos.accountEndpoint\": \"<cosmos-account-endpoint>\",\n",
    "\"spark.cosmos.accountKey\": \"<cosmos-account-key>\",\n",
    "\"spark.cosmos.database\": \"<database-name>\",\n",
    "\"spark.cosmos.container\": \"<container-name>\",\n",
    "}\n",
    "\"\"\"\n",
    "# connect to cosmos account using read-write key\n",
    "config = {\n",
    "\"spark.cosmos.accountEndpoint\": \"https://deepi.documents.azure.com:443/\",\n",
    "\"spark.cosmos.accountKey\":\n",
    "\"<access-key>\",\n",
    "\"spark.cosmos.database\": \"ToDoList\",\n",
    "\"spark.cosmos.container\": \"Items\",\n",
    "}"
   ]
  },
  {
   "cell_type": "code",
   "execution_count": 0,
   "metadata": {
    "application/vnd.databricks.v1+cell": {
     "cellMetadata": {
      "byteLimit": 2048000,
      "rowLimit": 10000
     },
     "inputWidgets": {},
     "nuid": "094a128b-fcb4-40c8-aacc-fe5d9d2a1060",
     "showTitle": false,
     "title": ""
    }
   },
   "outputs": [],
   "source": [
    "from pyspark.sql.functions import lit\n",
    "from pyspark.sql.types import StringType\n",
    "\n",
    "# Add the \"id\" field with a default value if it is missing\n",
    "if \"id\" not in grp_date_insights.columns:\n",
    "    grp_date_insights = grp_date_insights.withColumn(\"id\", lit(\"default_id\"))\n",
    "\n",
    "# Convert the \"id\" field to string if it is not already\n",
    "if grp_date_insights.schema[\"id\"].dataType != StringType():\n",
    "    grp_date_insights = grp_date_insights.withColumn(\"id\", grp_date_insights[\"id\"].cast(StringType()))\n",
    "\n",
    "# Save the DataFrame\n",
    "grp_date_insights.write.format(\"cosmos.oltp\").options(**config).mode(\"append\").save()"
   ]
  },
  {
   "cell_type": "code",
   "execution_count": 0,
   "metadata": {
    "application/vnd.databricks.v1+cell": {
     "cellMetadata": {},
     "inputWidgets": {},
     "nuid": "c9e16c62-7ef2-4a78-849f-2b9880d54509",
     "showTitle": false,
     "title": ""
    }
   },
   "outputs": [],
   "source": []
  }
 ],
 "metadata": {
  "application/vnd.databricks.v1+notebook": {
   "dashboards": [],
   "environmentMetadata": null,
   "language": "python",
   "notebookMetadata": {
    "mostRecentlyExecutedCommandWithImplicitDF": {
     "commandId": 3578708663480525,
     "dataframes": [
      "_sqldf"
     ]
    },
    "pythonIndentUnit": 4
   },
   "notebookName": "Weekly Insights-Final",
   "widgets": {}
  },
  "kernelspec": {
   "display_name": "Python 3 (ipykernel)",
   "language": "python",
   "name": "python3"
  },
  "language_info": {
   "codemirror_mode": {
    "name": "ipython",
    "version": 3
   },
   "file_extension": ".py",
   "mimetype": "text/x-python",
   "name": "python",
   "nbconvert_exporter": "python",
   "pygments_lexer": "ipython3",
   "version": "3.11.5"
  }
 },
 "nbformat": 4,
 "nbformat_minor": 1
}
